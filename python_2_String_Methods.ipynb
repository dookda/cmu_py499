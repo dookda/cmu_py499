{
  "cells": [
    {
      "cell_type": "markdown",
      "metadata": {
        "colab_type": "text",
        "id": "view-in-github"
      },
      "source": [
        "<a href=\"https://colab.research.google.com/github/dookda/py499/blob/main/python_2_String_Methods.ipynb\" target=\"_parent\"><img src=\"https://colab.research.google.com/assets/colab-badge.svg\" alt=\"Open In Colab\"/></a>"
      ]
    },
    {
      "cell_type": "markdown",
      "metadata": {
        "id": "sU5rMsT9Zjas"
      },
      "source": [
        "**String Methods**\n",
        "\n",
        "\n",
        "ตัวอย่างของ method ที่ python มีไว้สำหรับจัดการข้อมูล string"
      ]
    },
    {
      "cell_type": "code",
      "execution_count": null,
      "metadata": {
        "id": "wDNnUtXRZl80"
      },
      "outputs": [],
      "source": [
        "# capitalize()\n",
        "greeting = \"hello world\"\n",
        "print(greeting.capitalize())"
      ]
    },
    {
      "cell_type": "code",
      "execution_count": null,
      "metadata": {
        "id": "mllyGbh9biRQ"
      },
      "outputs": [],
      "source": [
        "# upper()\n",
        "text = \"python programming\"\n",
        "print(text.upper())"
      ]
    },
    {
      "cell_type": "code",
      "execution_count": null,
      "metadata": {
        "id": "KIAKpyPfbhL2"
      },
      "outputs": [],
      "source": [
        "# lower()\n",
        "text = \"PYTHON PROGRAMMING\"\n",
        "print(text.lower())"
      ]
    },
    {
      "cell_type": "code",
      "execution_count": null,
      "metadata": {
        "id": "pBqvREUBbgBz"
      },
      "outputs": [],
      "source": [
        "# strip()\n",
        "name = \"   Alice   \"\n",
        "print(name.strip())"
      ]
    },
    {
      "cell_type": "code",
      "execution_count": null,
      "metadata": {
        "id": "T6xML-7kbeli"
      },
      "outputs": [],
      "source": [
        "# split()\n",
        "data = \"apple, banana, cherry\"\n",
        "print(data.split(\", \"))"
      ]
    },
    {
      "cell_type": "code",
      "execution_count": null,
      "metadata": {
        "id": "fjSswRoWbcOv"
      },
      "outputs": [],
      "source": [
        "# join()\n",
        "words = [\"Hello\", \"world\"]\n",
        "print(\" \".join(words))"
      ]
    },
    {
      "cell_type": "code",
      "execution_count": null,
      "metadata": {
        "id": "LMRVrJizbbGO"
      },
      "outputs": [],
      "source": [
        "# replace()\n",
        "text = \"I like cats\"\n",
        "print(text.replace(\"cats\", \"dogs\"))"
      ]
    },
    {
      "cell_type": "code",
      "execution_count": null,
      "metadata": {
        "id": "ZKHr9YJFbY6p"
      },
      "outputs": [],
      "source": [
        "# find()\n",
        "text = \"Hello world\"\n",
        "print(text.find(\"world\"))"
      ]
    },
    {
      "cell_type": "code",
      "execution_count": null,
      "metadata": {
        "id": "bMWhEBdtbW3h"
      },
      "outputs": [],
      "source": [
        "# count()\n",
        "text = \"the quick brown fox jumps over the lazy dog\"\n",
        "print(text.count(\"the\"))"
      ]
    },
    {
      "cell_type": "code",
      "execution_count": null,
      "metadata": {
        "id": "DNG5yfD7bUlr"
      },
      "outputs": [],
      "source": [
        "# startswith()\n",
        "text = \"hello world\"\n",
        "print(text.startswith(\"hello\"))"
      ]
    },
    {
      "cell_type": "code",
      "execution_count": null,
      "metadata": {
        "id": "S2Hlck0dbTKe"
      },
      "outputs": [],
      "source": [
        "# endswith()\n",
        "text = \"hello world\"\n",
        "print(text.endswith(\"world\"))"
      ]
    },
    {
      "cell_type": "code",
      "execution_count": null,
      "metadata": {
        "id": "Zs-CbPc4bSSa"
      },
      "outputs": [],
      "source": [
        "# format()\n",
        "text = \"The price of a {0} is {1} dollars.\"\n",
        "print(text.format(\"coffee\", 2))\n",
        "\n",
        "# f-string\n",
        "name = \"NeawNuab\"\n",
        "age = 25\n",
        "print(f\"Hello, my name is {name} and I am {age} years old.\")\n",
        "\n",
        "# % operator\n",
        "name = \"NeawNuab\"\n",
        "age = 25\n",
        "print(\"Hello, my name is %s and I am %d years old.\" % (name, age))\n"
      ]
    }
  ],
  "metadata": {
    "colab": {
      "authorship_tag": "ABX9TyNDNXzIsZt/1/moXRCNrAeq",
      "include_colab_link": true,
      "provenance": []
    },
    "kernelspec": {
      "display_name": "Python 3",
      "name": "python3"
    },
    "language_info": {
      "codemirror_mode": {
        "name": "ipython",
        "version": 3
      },
      "file_extension": ".py",
      "mimetype": "text/x-python",
      "name": "python",
      "nbconvert_exporter": "python",
      "pygments_lexer": "ipython3",
      "version": "3.11.4"
    }
  },
  "nbformat": 4,
  "nbformat_minor": 0
}
