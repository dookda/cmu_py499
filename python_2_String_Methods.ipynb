{
  "nbformat": 4,
  "nbformat_minor": 0,
  "metadata": {
    "colab": {
      "provenance": [],
      "authorship_tag": "ABX9TyNDNXzIsZt/1/moXRCNrAeq",
      "include_colab_link": true
    },
    "kernelspec": {
      "name": "python3",
      "display_name": "Python 3"
    },
    "language_info": {
      "name": "python"
    }
  },
  "cells": [
    {
      "cell_type": "markdown",
      "metadata": {
        "id": "view-in-github",
        "colab_type": "text"
      },
      "source": [
        "<a href=\"https://colab.research.google.com/github/dookda/py499/blob/main/python_2_String_Methods.ipynb\" target=\"_parent\"><img src=\"https://colab.research.google.com/assets/colab-badge.svg\" alt=\"Open In Colab\"/></a>"
      ]
    },
    {
      "cell_type": "markdown",
      "source": [
        "**String Methods**"
      ],
      "metadata": {
        "id": "sU5rMsT9Zjas"
      }
    },
    {
      "cell_type": "code",
      "source": [
        "# capitalize()\n",
        "greeting = \"hello world\"\n",
        "print(greeting.capitalize())"
      ],
      "metadata": {
        "id": "wDNnUtXRZl80"
      },
      "execution_count": null,
      "outputs": []
    },
    {
      "cell_type": "code",
      "source": [
        "# upper()\n",
        "text = \"python programming\"\n",
        "print(text.upper())"
      ],
      "metadata": {
        "id": "mllyGbh9biRQ"
      },
      "execution_count": null,
      "outputs": []
    },
    {
      "cell_type": "code",
      "source": [
        "# lower()\n",
        "text = \"PYTHON PROGRAMMING\"\n",
        "print(text.lower())"
      ],
      "metadata": {
        "id": "KIAKpyPfbhL2"
      },
      "execution_count": null,
      "outputs": []
    },
    {
      "cell_type": "code",
      "source": [
        "# strip()\n",
        "name = \"   Alice   \"\n",
        "print(name.strip())"
      ],
      "metadata": {
        "id": "pBqvREUBbgBz"
      },
      "execution_count": null,
      "outputs": []
    },
    {
      "cell_type": "code",
      "source": [
        "# split()\n",
        "data = \"apple, banana, cherry\"\n",
        "print(data.split(\", \"))"
      ],
      "metadata": {
        "id": "T6xML-7kbeli"
      },
      "execution_count": null,
      "outputs": []
    },
    {
      "cell_type": "code",
      "source": [
        "# join()\n",
        "words = [\"Hello\", \"world\"]\n",
        "print(\" \".join(words))"
      ],
      "metadata": {
        "id": "fjSswRoWbcOv"
      },
      "execution_count": null,
      "outputs": []
    },
    {
      "cell_type": "code",
      "source": [
        "# replace()\n",
        "text = \"I like cats\"\n",
        "print(text.replace(\"cats\", \"dogs\"))"
      ],
      "metadata": {
        "id": "LMRVrJizbbGO"
      },
      "execution_count": null,
      "outputs": []
    },
    {
      "cell_type": "code",
      "source": [
        "# find()\n",
        "text = \"Hello world\"\n",
        "print(text.find(\"world\"))"
      ],
      "metadata": {
        "id": "ZKHr9YJFbY6p"
      },
      "execution_count": null,
      "outputs": []
    },
    {
      "cell_type": "code",
      "source": [
        "# count()\n",
        "text = \"the quick brown fox jumps over the lazy dog\"\n",
        "print(text.count(\"the\"))"
      ],
      "metadata": {
        "id": "bMWhEBdtbW3h"
      },
      "execution_count": null,
      "outputs": []
    },
    {
      "cell_type": "code",
      "source": [
        "# startswith()\n",
        "text = \"hello world\"\n",
        "print(text.startswith(\"hello\"))"
      ],
      "metadata": {
        "id": "DNG5yfD7bUlr"
      },
      "execution_count": null,
      "outputs": []
    },
    {
      "cell_type": "code",
      "source": [
        "# endswith()\n",
        "text = \"hello world\"\n",
        "print(text.endswith(\"world\"))"
      ],
      "metadata": {
        "id": "S2Hlck0dbTKe"
      },
      "execution_count": null,
      "outputs": []
    },
    {
      "cell_type": "code",
      "source": [
        "# format()\n",
        "text = \"The price of a {0} is {1} dollars.\"\n",
        "print(text.format(\"coffee\", 2))"
      ],
      "metadata": {
        "id": "Zs-CbPc4bSSa"
      },
      "execution_count": null,
      "outputs": []
    }
  ]
}