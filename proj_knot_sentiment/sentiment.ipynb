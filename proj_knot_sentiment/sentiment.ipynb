{
 "cells": [
  {
   "cell_type": "markdown",
   "id": "a0b1a776",
   "metadata": {},
   "source": [
    "<a href=\"https://colab.research.google.com/github/dookda/cmu_py499/blob/main/proj_knot_sentiment/sentiment.ipynb\" target=\"_parent\"><img src=\"https://colab.research.google.com/assets/colab-badge.svg\" alt=\"Open In Colab\"/></a>"
   ]
  },
  {
   "cell_type": "markdown",
   "id": "60425a82",
   "metadata": {},
   "source": [
    "# create & activate virtualenv (or conda)\n",
    "python3 -m venv venv && source venv/bin/activate\n",
    "\n",
    "# install core libraries\n",
    "pip install pandas numpy scikit-learn\n",
    "pip install torch torchvision         # for PyTorch\n",
    "pip install tensorflow                # for TF/Keras (if preferred)\n",
    "pip install transformers              # for BERT\n",
    "pip install nltk regex emoji          # for preprocessing\n"
   ]
  },
  {
   "cell_type": "code",
   "execution_count": null,
   "id": "2bbb96ed",
   "metadata": {
    "vscode": {
     "languageId": "plaintext"
    }
   },
   "outputs": [],
   "source": []
  }
 ],
 "metadata": {
  "language_info": {
   "name": "python"
  }
 },
 "nbformat": 4,
 "nbformat_minor": 5
}
