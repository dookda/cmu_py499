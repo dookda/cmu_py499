{
  "cells": [
    {
      "cell_type": "markdown",
      "metadata": {
        "colab_type": "text",
        "id": "view-in-github"
      },
      "source": [
        "<a href=\"https://colab.research.google.com/github/dookda/py499/blob/main/python_8_Operators.ipynb\" target=\"_parent\"><img src=\"https://colab.research.google.com/assets/colab-badge.svg\" alt=\"Open In Colab\"/></a>"
      ]
    },
    {
      "cell_type": "markdown",
      "metadata": {},
      "source": [
        "การใช้ Operators แบบต่างๆ"
      ]
    },
    {
      "cell_type": "markdown",
      "metadata": {
        "id": "i5XGtbG4lCko"
      },
      "source": [
        "1. **Arithmetic Operators**\n",
        "- `+` (Addition): Adds values on either side of the operator.\n",
        "- `-` (Subtraction): Subtracts right hand operand from left hand operand.\n",
        "- `*` (Multiplication): Multiplies values on either side of the operator.\n",
        "- `/` (Division): Divides left hand operand by right hand operand.\n",
        "- `//` (Floor Division): Divides and returns the integer value of the quotient. It dumps the digits after the decimal.\n",
        "- `%` (Modulus): Divides left hand operand by right hand operand and returns remainder.\n",
        "- `**` (Exponentiation): Performs exponential (power) calculation on operators."
      ]
    },
    {
      "cell_type": "code",
      "execution_count": null,
      "metadata": {
        "id": "ZYT5DOvXk3ZC"
      },
      "outputs": [],
      "source": [
        "x = 10\n",
        "y = 3\n",
        "print(x + y)   \n",
        "print(x - y)   \n",
        "print(x * y)  \n",
        "print(x / y)   \n",
        "print(x // y)  \n",
        "print(x % y)   \n",
        "print(x ** y)  "
      ]
    },
    {
      "cell_type": "markdown",
      "metadata": {},
      "source": [
        "2. **Comparison Operators**\n",
        "- `==` (Equal to): True if operands are equal.\n",
        "- `!=` (Not equal to): True if operands are not equal.\n",
        "- `>` (Greater than): True if left operand is greater than the right.\n",
        "- `<` (Less than): True if left operand is less than the right.\n",
        "- `>=` (Greater than or equal to): True if left operand is greater than or equal to the right.\n",
        "- `<=` (Less than or equal to): True if left operand is less than or equal to the right."
      ]
    },
    {
      "cell_type": "code",
      "execution_count": null,
      "metadata": {
        "id": "SH94g8dglL7o"
      },
      "outputs": [],
      "source": [
        "a = 10\n",
        "b = 20\n",
        "print(a == b)  \n",
        "print(a != b)  \n",
        "print(a > b)   \n",
        "print(a < b)   \n",
        "print(a >= 10) \n",
        "print(a <= 20) "
      ]
    },
    {
      "cell_type": "markdown",
      "metadata": {},
      "source": [
        "3. **Logical Operators**\n",
        "- `and`: True if both the operands are true.\n",
        "- `or`: True if either of the operands is true.\n",
        "- `not`: True if operand is false (complements the operand)."
      ]
    },
    {
      "cell_type": "code",
      "execution_count": null,
      "metadata": {
        "id": "lCSXzQvVlQMC"
      },
      "outputs": [],
      "source": [
        "a = True\n",
        "b = False\n",
        "print(a and b)  \n",
        "print(a or b)   \n",
        "print(not b)    "
      ]
    },
    {
      "cell_type": "markdown",
      "metadata": {},
      "source": [
        "4. **Assignment Operators**\n",
        "- `=`: Assigns values from right side operands to left side operand.\n",
        "- `+=`: It adds right operand to the left operand and assign the result to left operand.\n",
        "- `-=`: It subtracts the right operand from the left operand and assigns the result to the left operand.\n",
        "- Many others like `*=`, `/=`, `%=`, `//=`, `**=`, etc."
      ]
    },
    {
      "cell_type": "code",
      "execution_count": null,
      "metadata": {
        "id": "VeLivqDrlVLc"
      },
      "outputs": [],
      "source": [
        "c = 10\n",
        "c += 5  \n",
        "print(c)  "
      ]
    },
    {
      "cell_type": "markdown",
      "metadata": {},
      "source": [
        "5. **Bitwise Operators**\n",
        "- `&`: Bitwise AND\n",
        "- `|`: Bitwise OR\n",
        "- `^`: Bitwise XOR\n",
        "- `~`: Bitwise NOT\n",
        "- `<<`: Bitwise left shift\n",
        "- `>>`: Bitwise right shift"
      ]
    },
    {
      "cell_type": "code",
      "execution_count": null,
      "metadata": {
        "id": "adSMm64BlYfg"
      },
      "outputs": [],
      "source": [
        "x = 2 # binary: 10\n",
        "y = 3 # binary: 11\n",
        "print(x & y)  \n",
        "print(x | y) \n",
        "print(x ^ y) \n",
        "print(~x)     \n",
        "print(x << 2) \n",
        "print(x >> 2) "
      ]
    },
    {
      "cell_type": "markdown",
      "metadata": {},
      "source": [
        "6. **Membership Operators**\n",
        "- `in`: True if value is found in the sequence.\n",
        "- `not in`: True if value is not found in the sequence."
      ]
    },
    {
      "cell_type": "code",
      "execution_count": null,
      "metadata": {
        "id": "2bk_SdQqldYH"
      },
      "outputs": [],
      "source": [
        "list = [1, 2, 3, 4, 5]\n",
        "print(3 in list)     \n",
        "print(6 not in list) "
      ]
    },
    {
      "cell_type": "markdown",
      "metadata": {},
      "source": [
        "7. **Identity Operators**\n",
        "- `is`: True if the operands are identical.\n",
        "- `is not`: True if the operands are not identical."
      ]
    },
    {
      "cell_type": "code",
      "execution_count": null,
      "metadata": {
        "id": "VC3H7OtSlhhA"
      },
      "outputs": [],
      "source": [
        "a = [1, 2, 3]\n",
        "b = a\n",
        "print(a is b)     \n",
        "print(a is not b)  "
      ]
    }
  ],
  "metadata": {
    "colab": {
      "authorship_tag": "ABX9TyMGgytNm24y5SRkHEiAox0D",
      "include_colab_link": true,
      "provenance": []
    },
    "kernelspec": {
      "display_name": "Python 3",
      "name": "python3"
    },
    "language_info": {
      "codemirror_mode": {
        "name": "ipython",
        "version": 3
      },
      "file_extension": ".py",
      "mimetype": "text/x-python",
      "name": "python",
      "nbconvert_exporter": "python",
      "pygments_lexer": "ipython3",
      "version": "3.11.4"
    }
  },
  "nbformat": 4,
  "nbformat_minor": 0
}
