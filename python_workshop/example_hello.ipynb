{
 "cells": [
  {
   "cell_type": "code",
   "execution_count": 37,
   "metadata": {},
   "outputs": [
    {
     "name": "stdout",
     "output_type": "stream",
     "text": [
      "<class 'str'>\n",
      "<class 'int'>\n",
      "<class 'float'>\n",
      "<class 'bool'>\n"
     ]
    }
   ],
   "source": [
    "# variables\n",
    "name = \" sakda homhuan \" # string\n",
    "surname = '''หอมหวล'''\n",
    "id = 1234567   # number int\n",
    "f = 12.45 #number float double\n",
    "d = True\n",
    "\n",
    "txt = f'ชื่อ: {name} นามสกุล: {surname} รหัส: {id}'\n",
    "\n",
    "print(type(name))\n",
    "print(type(id))\n",
    "print(type(f))\n",
    "print(type(d))\n",
    "\n",
    "# print(name.strip())\n",
    "# print(name.replace(\"a\",\"i\"))\n",
    "# print(name.upper())\n",
    "# print(txt)\n",
    "# print(name[:5])\n",
    "# print(name[6:])\n",
    "# print(name[-7:])"
   ]
  },
  {
   "cell_type": "code",
   "execution_count": 5,
   "metadata": {},
   "outputs": [
    {
     "name": "stdout",
     "output_type": "stream",
     "text": [
      "('sadka', 'day', 'oat')\n"
     ]
    }
   ],
   "source": [
    "tinydict = [\"sadka\", \"day\", \"oat\"]\n",
    "\n",
    "print(tinydict)"
   ]
  },
  {
   "cell_type": "code",
   "execution_count": 53,
   "metadata": {},
   "outputs": [
    {
     "name": "stdout",
     "output_type": "stream",
     "text": [
      "cherry\n",
      "['apple', 'apple', 'banana', 'orange']\n"
     ]
    }
   ],
   "source": [
    "myList = [\"apple\",\"apple\", \"banana\", \"cherry\", \"orange\"] # list or array\n",
    "name = \"sakda homhuan\" #str\n",
    "# print(type(myList))\n",
    "a = myList.pop(3)\n",
    "print(a)\n",
    "print(myList)\n",
    "# print(a)\n",
    "# print(len(myList))\n",
    "# print(myList[2:3])\n",
    "# print(myList[-2:-1])\n",
    "\n",
    "# for a in range(1,10):\n",
    "#     aa = f'2 * {a} = {a*2}'\n",
    "#     print(aa)\n",
    "\n",
    "\n",
    "# for i in myList:\n",
    "#     if(i != \"banana\"):\n",
    "#         print(i)"
   ]
  },
  {
   "cell_type": "code",
   "execution_count": 43,
   "metadata": {},
   "outputs": [
    {
     "name": "stdout",
     "output_type": "stream",
     "text": [
      "band TOYOTA\n",
      "model vios\n",
      "wheel 4\n",
      "cc 1200.567\n",
      "break True\n",
      "yes! a=1\n"
     ]
    }
   ],
   "source": [
    "car = {\n",
    "    \"band\": \"TOYOTA\",\n",
    "    \"model\": \"vios\",\n",
    "    \"wheel\": 4,\n",
    "    \"cc\": 1200.567,\n",
    "    \"break\": True\n",
    "}\n",
    "\n",
    "# print(car['model'])\n",
    "# print(car['wheel'])\n",
    "# print(car.keys())\n",
    "# print(car.values())\n",
    "# for a in car:\n",
    "#     txt = f'{a} %$ {car[a]}'\n",
    "#     print(txt)\n",
    "\n",
    "# for key, value in car.items():\n",
    "#     print(key, value)\n",
    "\n"
   ]
  },
  {
   "cell_type": "code",
   "execution_count": 48,
   "metadata": {},
   "outputs": [
    {
     "name": "stdout",
     "output_type": "stream",
     "text": [
      "a=2\n"
     ]
    }
   ],
   "source": [
    "a = 2\n",
    "if(a == 1):\n",
    "    print(\"a=1\")\n",
    "elif(a == 2):\n",
    "    print(\"a=2\")\n",
    "else:\n",
    "    print(\"no! a=?\")"
   ]
  },
  {
   "cell_type": "code",
   "execution_count": 6,
   "metadata": {},
   "outputs": [
    {
     "name": "stdout",
     "output_type": "stream",
     "text": [
      "2\n",
      "4\n",
      "6\n",
      "8\n",
      "10\n"
     ]
    }
   ],
   "source": [
    "items = [5,7,2,9,7,4,5,9,2]\n",
    "\n",
    "# for i in items:\n",
    "#     print(i)\n",
    "\n",
    "i = 2 \n",
    "while i <= 10:\n",
    "    print(i)\n",
    "    i += 2\n",
    "\n"
   ]
  }
 ],
 "metadata": {
  "interpreter": {
   "hash": "aee8b7b246df8f9039afb4144a1f6fd8d2ca17a180786b69acc140d282b71a49"
  },
  "kernelspec": {
   "display_name": "Python 3.9.10 64-bit",
   "language": "python",
   "name": "python3"
  },
  "language_info": {
   "codemirror_mode": {
    "name": "ipython",
    "version": 3
   },
   "file_extension": ".py",
   "mimetype": "text/x-python",
   "name": "python",
   "nbconvert_exporter": "python",
   "pygments_lexer": "ipython3",
   "version": "3.11.4"
  },
  "orig_nbformat": 4
 },
 "nbformat": 4,
 "nbformat_minor": 2
}
