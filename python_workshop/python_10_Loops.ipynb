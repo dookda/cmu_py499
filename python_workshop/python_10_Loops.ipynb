{
  "cells": [
    {
      "cell_type": "markdown",
      "metadata": {
        "colab_type": "text",
        "id": "view-in-github"
      },
      "source": [
        "<a href=\"https://colab.research.google.com/github/dookda/py499/blob/main/python_10_Loops.ipynb\" target=\"_parent\"><img src=\"https://colab.research.google.com/assets/colab-badge.svg\" alt=\"Open In Colab\"/></a>"
      ]
    },
    {
      "cell_type": "markdown",
      "metadata": {},
      "source": [
        "การใช้ Loop แบบต่างๆ"
      ]
    },
    {
      "cell_type": "markdown",
      "metadata": {
        "id": "i5XGtbG4lCko"
      },
      "source": [
        "1. **การใช้ `for` Loop**"
      ]
    },
    {
      "cell_type": "code",
      "execution_count": 1,
      "metadata": {
        "id": "ZYT5DOvXk3ZC"
      },
      "outputs": [
        {
          "name": "stdout",
          "output_type": "stream",
          "text": [
            "apple\n",
            "banana\n",
            "cherry\n"
          ]
        }
      ],
      "source": [
        "# Iterating over a list\n",
        "fruits = ['apple', 'banana', 'cherry']\n",
        "for f in fruits:\n",
        "    print(f)"
      ]
    },
    {
      "cell_type": "code",
      "execution_count": null,
      "metadata": {},
      "outputs": [],
      "source": [
        "# Using the `range()` function\n",
        "for i in range(15):  # Will iterate over 0, 1, 2, 3, 4\n",
        "    print(i)"
      ]
    },
    {
      "cell_type": "code",
      "execution_count": 5,
      "metadata": {},
      "outputs": [
        {
          "name": "stdout",
          "output_type": "stream",
          "text": [
            "name Alice\n",
            "age 25\n"
          ]
        }
      ],
      "source": [
        "# Iterating over a dictionary\n",
        "person = {'name': 'Alice', 'age': 25}\n",
        "# print(person.items())\n",
        "for key, value in person.items():\n",
        "    print(key, value)"
      ]
    },
    {
      "cell_type": "markdown",
      "metadata": {},
      "source": [
        "2. **การใช้ `while` Loop**"
      ]
    },
    {
      "cell_type": "code",
      "execution_count": 6,
      "metadata": {
        "id": "SH94g8dglL7o"
      },
      "outputs": [
        {
          "name": "stdout",
          "output_type": "stream",
          "text": [
            "0\n",
            "1\n",
            "2\n",
            "3\n",
            "4\n"
          ]
        }
      ],
      "source": [
        "# Simple `while` loop\n",
        "count = 0\n",
        "while count < 5:\n",
        "    print(count)\n",
        "    count += 1"
      ]
    },
    {
      "cell_type": "code",
      "execution_count": 7,
      "metadata": {},
      "outputs": [
        {
          "name": "stdout",
          "output_type": "stream",
          "text": [
            "0\n",
            "1\n",
            "2\n",
            "3\n",
            "4\n"
          ]
        }
      ],
      "source": [
        "# Using a `while` loop with `break`\n",
        "count = 0\n",
        "while True:  # This creates an infinite loop\n",
        "    if count >= 5:\n",
        "        break  # Break out of the loop if condition is met\n",
        "    print(count)\n",
        "    count += 1"
      ]
    },
    {
      "cell_type": "code",
      "execution_count": null,
      "metadata": {},
      "outputs": [],
      "source": [
        "# Using a `while` loop with `continue`\n",
        "count = 0\n",
        "while count < 10:\n",
        "    count += 1\n",
        "    if count % 2 == 0:\n",
        "        continue  # Skip the rest of the loop for even numbers\n",
        "    print(count)  # This will print only odd numbers"
      ]
    },
    {
      "cell_type": "markdown",
      "metadata": {},
      "source": [
        "3. **การใช้ Loop Controls**"
      ]
    },
    {
      "cell_type": "code",
      "execution_count": null,
      "metadata": {
        "id": "lCSXzQvVlQMC"
      },
      "outputs": [],
      "source": [
        "# `else` with `for` loop\n",
        "for i in range(5):\n",
        "    print(i)\n",
        "else:\n",
        "    print(\"Done!\")  "
      ]
    },
    {
      "cell_type": "code",
      "execution_count": null,
      "metadata": {},
      "outputs": [],
      "source": [
        "# `else` with `while` loop\n",
        "count = 0\n",
        "while count < 5:\n",
        "    print(count)\n",
        "    count += 1\n",
        "else:\n",
        "    print(\"Count is no longer less than 5\")"
      ]
    },
    {
      "cell_type": "markdown",
      "metadata": {},
      "source": [
        "4. **อื่นๆ**"
      ]
    },
    {
      "cell_type": "code",
      "execution_count": null,
      "metadata": {
        "id": "VeLivqDrlVLc"
      },
      "outputs": [],
      "source": [
        "# loop in List\n",
        "[print(i) for i in range(5)]"
      ]
    }
  ],
  "metadata": {
    "colab": {
      "authorship_tag": "ABX9TyMGgytNm24y5SRkHEiAox0D",
      "include_colab_link": true,
      "provenance": []
    },
    "kernelspec": {
      "display_name": "Python 3",
      "name": "python3"
    },
    "language_info": {
      "codemirror_mode": {
        "name": "ipython",
        "version": 3
      },
      "file_extension": ".py",
      "mimetype": "text/x-python",
      "name": "python",
      "nbconvert_exporter": "python",
      "pygments_lexer": "ipython3",
      "version": "3.11.4"
    }
  },
  "nbformat": 4,
  "nbformat_minor": 0
}
