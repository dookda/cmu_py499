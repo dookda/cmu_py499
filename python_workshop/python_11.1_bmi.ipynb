{
 "cells": [
  {
   "cell_type": "markdown",
   "metadata": {},
   "source": [
    "**ตัวอย่าง BMI**\n",
    "\n",
    "การหาค่า bmi\n",
    "\n",
    "https://www.si.mahidol.ac.th/th/healthdetail.asp?aid=1361"
   ]
  },
  {
   "cell_type": "code",
   "execution_count": null,
   "metadata": {},
   "outputs": [],
   "source": [
    "def bmi(w, h):\n",
    "    res = int(w) / int(int(h/100) ^2)\n",
    "\n",
    "    if(res<=18.5):\n",
    "        return  f'ต่ำกว่าเกณฑ์ ({round(res, 2)})'\n",
    "    elif(res<=22.9):\n",
    "        return  f'สมส่วน ({round(res, 2)})'\n",
    "    elif(res<=24.9):\n",
    "        return  f'น้ำหนักเกิน ({round(res, 2)})'\n",
    "    elif(res<=29.9):\n",
    "        return  f'อวบ ({round(res, 2)})'\n",
    "    else:\n",
    "        return  f'อิ่ม ({round(res, 2)})'\n",
    "\n",
    "\n",
    "w = input(\"กรอกน้ำหนัก: \")\n",
    "h = input(\"กรอกส่วนสูง: \")\n",
    "a = bmi(int(w), int(h))\n",
    "\n",
    "print(f'คุณ{a}')"
   ]
  }
 ],
 "metadata": {
  "interpreter": {
   "hash": "aee8b7b246df8f9039afb4144a1f6fd8d2ca17a180786b69acc140d282b71a49"
  },
  "kernelspec": {
   "display_name": "Python 3.9.10 64-bit",
   "language": "python",
   "name": "python3"
  },
  "language_info": {
   "codemirror_mode": {
    "name": "ipython",
    "version": 3
   },
   "file_extension": ".py",
   "mimetype": "text/x-python",
   "name": "python",
   "nbconvert_exporter": "python",
   "pygments_lexer": "ipython3",
   "version": "3.11.4"
  },
  "orig_nbformat": 4
 },
 "nbformat": 4,
 "nbformat_minor": 2
}
