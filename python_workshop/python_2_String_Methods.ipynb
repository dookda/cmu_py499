{
  "cells": [
    {
      "cell_type": "markdown",
      "metadata": {
        "colab_type": "text",
        "id": "view-in-github"
      },
      "source": [
        "<a href=\"https://colab.research.google.com/github/dookda/py499/blob/main/python_2_String_Methods.ipynb\" target=\"_parent\"><img src=\"https://colab.research.google.com/assets/colab-badge.svg\" alt=\"Open In Colab\"/></a>"
      ]
    },
    {
      "cell_type": "markdown",
      "metadata": {
        "id": "sU5rMsT9Zjas"
      },
      "source": [
        "**String Methods**\n",
        "\n",
        "\n",
        "ตัวอย่างของ method ที่ python มีไว้สำหรับจัดการข้อมูล string"
      ]
    },
    {
      "cell_type": "code",
      "execution_count": 1,
      "metadata": {
        "id": "wDNnUtXRZl80"
      },
      "outputs": [
        {
          "name": "stdout",
          "output_type": "stream",
          "text": [
            "Hello world\n"
          ]
        }
      ],
      "source": [
        "# capitalize()\n",
        "greeting = \"hello world\"\n",
        "print(greeting.capitalize())"
      ]
    },
    {
      "cell_type": "code",
      "execution_count": 1,
      "metadata": {
        "id": "mllyGbh9biRQ"
      },
      "outputs": [
        {
          "name": "stdout",
          "output_type": "stream",
          "text": [
            "PYTHON PROGRAMMING\n"
          ]
        }
      ],
      "source": [
        "# upper()\n",
        "text = \"python programming\"\n",
        "print(text.upper())"
      ]
    },
    {
      "cell_type": "code",
      "execution_count": 2,
      "metadata": {
        "id": "KIAKpyPfbhL2"
      },
      "outputs": [
        {
          "name": "stdout",
          "output_type": "stream",
          "text": [
            "python programming\n"
          ]
        }
      ],
      "source": [
        "# lower()\n",
        "text = \"PYTHON PROGRAMMING\"\n",
        "print(text.lower())"
      ]
    },
    {
      "cell_type": "code",
      "execution_count": 3,
      "metadata": {
        "id": "pBqvREUBbgBz"
      },
      "outputs": [
        {
          "name": "stdout",
          "output_type": "stream",
          "text": [
            "Alice\n"
          ]
        }
      ],
      "source": [
        "# strip()\n",
        "name = \"   Alice   \"\n",
        "print(name.strip())"
      ]
    },
    {
      "cell_type": "code",
      "execution_count": 6,
      "metadata": {
        "id": "T6xML-7kbeli"
      },
      "outputs": [
        {
          "name": "stdout",
          "output_type": "stream",
          "text": [
            "banana\n"
          ]
        }
      ],
      "source": [
        "# split()\n",
        "data = \"apple, banana, cherry\"\n",
        "arr = data.split(\", \")\n",
        "\n",
        "print(arr[1])"
      ]
    },
    {
      "cell_type": "code",
      "execution_count": 7,
      "metadata": {
        "id": "fjSswRoWbcOv"
      },
      "outputs": [
        {
          "name": "stdout",
          "output_type": "stream",
          "text": [
            "Hello world\n"
          ]
        }
      ],
      "source": [
        "# join()\n",
        "words = [\"Hello\", \"world\"]\n",
        "print(\" \".join(words))"
      ]
    },
    {
      "cell_type": "code",
      "execution_count": 9,
      "metadata": {
        "id": "LMRVrJizbbGO"
      },
      "outputs": [
        {
          "name": "stdout",
          "output_type": "stream",
          "text": [
            "I like cats\n",
            "I like dogs\n"
          ]
        }
      ],
      "source": [
        "# replace()\n",
        "text = \"I like cats\"\n",
        "print(text)\n",
        "print(text.replace(\"cats\", \"dogs\"))"
      ]
    },
    {
      "cell_type": "code",
      "execution_count": 12,
      "metadata": {
        "id": "ZKHr9YJFbY6p"
      },
      "outputs": [
        {
          "name": "stdout",
          "output_type": "stream",
          "text": [
            "0\n"
          ]
        }
      ],
      "source": [
        "# find()\n",
        "text = \"world Hello \"\n",
        "print(text.find(\"world\"))"
      ]
    },
    {
      "cell_type": "code",
      "execution_count": 16,
      "metadata": {
        "id": "bMWhEBdtbW3h"
      },
      "outputs": [
        {
          "name": "stdout",
          "output_type": "stream",
          "text": [
            "2\n"
          ]
        }
      ],
      "source": [
        "# count()\n",
        "text = \"the quick brown fox jumps over the lazy dog\"\n",
        "\n",
        "print(text.count(\"the\"))"
      ]
    },
    {
      "cell_type": "code",
      "execution_count": 17,
      "metadata": {
        "id": "DNG5yfD7bUlr"
      },
      "outputs": [
        {
          "name": "stdout",
          "output_type": "stream",
          "text": [
            "True\n"
          ]
        }
      ],
      "source": [
        "# startswith()\n",
        "text = \"hello world\"\n",
        "print(text.startswith(\"hello\"))"
      ]
    },
    {
      "cell_type": "code",
      "execution_count": 21,
      "metadata": {
        "id": "S2Hlck0dbTKe"
      },
      "outputs": [
        {
          "name": "stdout",
          "output_type": "stream",
          "text": [
            "False\n"
          ]
        }
      ],
      "source": [
        "# endswith()\n",
        "text = \"hello_world.png\"\n",
        "print(text.endswith(\"jpg\"))"
      ]
    },
    {
      "cell_type": "code",
      "execution_count": 25,
      "metadata": {
        "id": "Zs-CbPc4bSSa"
      },
      "outputs": [
        {
          "name": "stdout",
          "output_type": "stream",
          "text": [
            "The price of a coffee is 2 dollars.\n",
            "Hello, my name is NeawNuab and I am 25 years old.\n",
            "Hello, my name is NeawNuab and I am 25 years old.\n"
          ]
        }
      ],
      "source": [
        "print(name)\n",
        "\n",
        "# format()\n",
        "text = \"The price of a {0} is {1} dollars.\"\n",
        "print(text.format(\"coffee\", 2))\n",
        "\n",
        "# f-string\n",
        "name = \"NeawNuab\"\n",
        "age = 25\n",
        "print(f\"Hello, my name is {name} and I am {age} years old.\")\n",
        "\n",
        "# % operator\n",
        "name = \"NeawNuab\"\n",
        "age = 25\n",
        "print(\"Hello, my name is %s and I am %d years old.\" % (name, age))\n"
      ]
    }
  ],
  "metadata": {
    "colab": {
      "authorship_tag": "ABX9TyNDNXzIsZt/1/moXRCNrAeq",
      "include_colab_link": true,
      "provenance": []
    },
    "kernelspec": {
      "display_name": "Python 3",
      "name": "python3"
    },
    "language_info": {
      "codemirror_mode": {
        "name": "ipython",
        "version": 3
      },
      "file_extension": ".py",
      "mimetype": "text/x-python",
      "name": "python",
      "nbconvert_exporter": "python",
      "pygments_lexer": "ipython3",
      "version": "3.12.3"
    }
  },
  "nbformat": 4,
  "nbformat_minor": 0
}
