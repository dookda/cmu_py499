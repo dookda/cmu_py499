{
  "cells": [
    {
      "cell_type": "markdown",
      "metadata": {
        "colab_type": "text",
        "id": "view-in-github"
      },
      "source": [
        "<a href=\"https://colab.research.google.com/github/dookda/py499/blob/main/python_3_Basic_Number_Operations.ipynb\" target=\"_parent\"><img src=\"https://colab.research.google.com/assets/colab-badge.svg\" alt=\"Open In Colab\"/></a>"
      ]
    },
    {
      "cell_type": "markdown",
      "metadata": {
        "id": "bnEgQbeUdUXI"
      },
      "source": [
        "**Basic Number Operations**"
      ]
    },
    {
      "cell_type": "markdown",
      "metadata": {
        "id": "fcUCmwnnds3m"
      },
      "source": [
        "Arithmetic Operators"
      ]
    },
    {
      "cell_type": "code",
      "execution_count": 3,
      "metadata": {
        "id": "_xRUcmW7c6Os"
      },
      "outputs": [
        {
          "name": "stdout",
          "output_type": "stream",
          "text": [
            "13\n",
            "7\n",
            "30\n",
            "3.3333333333333335\n",
            "3\n",
            "1\n",
            "1000\n",
            "Sakda Homhuan\n"
          ]
        }
      ],
      "source": [
        "x = 10\n",
        "y = 3\n",
        "print(x + y)   # Output: 13\n",
        "print(x - y)   # Output: 7\n",
        "print(x * y)   # Output: 30\n",
        "print(x / y)   # Output: 3.3333333333333335\n",
        "print(x // y)  # Output: 3\n",
        "print(x % y)   # Output: 1\n",
        "print(x ** y)  # Output: 1000\n",
        "\n",
        "fname = \"Sakda\"\n",
        "lname = \"Homhuan\"\n",
        "\n",
        "print(fname+\" \"+lname)\n"
      ]
    },
    {
      "cell_type": "markdown",
      "metadata": {
        "id": "Ub98oVBddoH_"
      },
      "source": [
        "Built-in Functions"
      ]
    },
    {
      "cell_type": "code",
      "execution_count": 4,
      "metadata": {
        "id": "VdXue5SbdlPT"
      },
      "outputs": [
        {
          "name": "stdout",
          "output_type": "stream",
          "text": [
            "7.25\n"
          ]
        }
      ],
      "source": [
        "print(abs(-7.25))"
      ]
    },
    {
      "cell_type": "code",
      "execution_count": 5,
      "metadata": {
        "id": "e9d2mBUMdxT1"
      },
      "outputs": [
        {
          "name": "stdout",
          "output_type": "stream",
          "text": [
            "3.8\n"
          ]
        }
      ],
      "source": [
        "print(round(3.75, 1))"
      ]
    },
    {
      "cell_type": "code",
      "execution_count": 6,
      "metadata": {
        "id": "SBgFKSTBd0VG"
      },
      "outputs": [
        {
          "name": "stdout",
          "output_type": "stream",
          "text": [
            "-4\n"
          ]
        }
      ],
      "source": [
        "print(min(1, 2, 3, -4))"
      ]
    },
    {
      "cell_type": "code",
      "execution_count": 7,
      "metadata": {
        "id": "073JzpgFd16q"
      },
      "outputs": [
        {
          "name": "stdout",
          "output_type": "stream",
          "text": [
            "3\n"
          ]
        }
      ],
      "source": [
        "print(max(1, 2, 3, -4))"
      ]
    },
    {
      "cell_type": "code",
      "execution_count": 2,
      "metadata": {
        "id": "ltr1UkEgd3-8"
      },
      "outputs": [
        {
          "name": "stdout",
          "output_type": "stream",
          "text": [
            "2.5\n"
          ]
        }
      ],
      "source": [
        "a = [1, 2, 3, 4]\n",
        "s = sum(a)\n",
        "n = len(a)\n",
        "m = s/n\n",
        "print(m)"
      ]
    },
    {
      "cell_type": "code",
      "execution_count": null,
      "metadata": {},
      "outputs": [],
      "source": []
    }
  ],
  "metadata": {
    "colab": {
      "authorship_tag": "ABX9TyOF55MyDGxEIRYufaTj+xIg",
      "include_colab_link": true,
      "provenance": []
    },
    "kernelspec": {
      "display_name": "Python 3",
      "name": "python3"
    },
    "language_info": {
      "codemirror_mode": {
        "name": "ipython",
        "version": 3
      },
      "file_extension": ".py",
      "mimetype": "text/x-python",
      "name": "python",
      "nbconvert_exporter": "python",
      "pygments_lexer": "ipython3",
      "version": "3.12.3"
    }
  },
  "nbformat": 4,
  "nbformat_minor": 0
}
