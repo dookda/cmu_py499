{
  "cells": [
    {
      "cell_type": "markdown",
      "metadata": {
        "colab_type": "text",
        "id": "view-in-github"
      },
      "source": [
        "<a href=\"https://colab.research.google.com/github/dookda/py499/blob/main/python_4_List_Methods.ipynb\" target=\"_parent\"><img src=\"https://colab.research.google.com/assets/colab-badge.svg\" alt=\"Open In Colab\"/></a>"
      ]
    },
    {
      "cell_type": "markdown",
      "metadata": {
        "id": "1Ya6dhy_fPL_"
      },
      "source": [
        "List Methods"
      ]
    },
    {
      "cell_type": "code",
      "execution_count": 8,
      "metadata": {
        "id": "IWVKxmwLfM4Q"
      },
      "outputs": [
        {
          "name": "stdout",
          "output_type": "stream",
          "text": [
            "['apple', 'banana', 'cherry', 'orange']\n"
          ]
        }
      ],
      "source": [
        "# append()\n",
        "fruits = ['apple', 'banana', 'cherry']\n",
        "fruits.append('orange')\n",
        "print(fruits)"
      ]
    },
    {
      "cell_type": "code",
      "execution_count": 3,
      "metadata": {
        "id": "Hhjx2sAyfFSQ"
      },
      "outputs": [
        {
          "name": "stdout",
          "output_type": "stream",
          "text": [
            "['apple', 'banana', 'cherry', 'orange', 'grape', 'pear']\n"
          ]
        }
      ],
      "source": [
        "# extend()\n",
        "more_fruits = ['grape', 'pear']\n",
        "fruits.extend(more_fruits)\n",
        "print(fruits)"
      ]
    },
    {
      "cell_type": "code",
      "execution_count": 4,
      "metadata": {
        "id": "1CXTow4rfb96"
      },
      "outputs": [
        {
          "name": "stdout",
          "output_type": "stream",
          "text": [
            "['apple', 'kiwi', 'banana', 'cherry', 'orange', 'grape', 'pear']\n"
          ]
        }
      ],
      "source": [
        "# insert()\n",
        "fruits.insert(1, 'kiwi')\n",
        "print(fruits)"
      ]
    },
    {
      "cell_type": "code",
      "execution_count": 5,
      "metadata": {
        "id": "KwPPaH7PfeMk"
      },
      "outputs": [
        {
          "name": "stdout",
          "output_type": "stream",
          "text": [
            "['apple', 'kiwi', 'cherry', 'orange', 'grape', 'pear']\n"
          ]
        }
      ],
      "source": [
        "# remove()\n",
        "fruits.remove('banana')\n",
        "print(fruits)"
      ]
    },
    {
      "cell_type": "code",
      "execution_count": 6,
      "metadata": {
        "id": "twZy4YGHfiwh"
      },
      "outputs": [
        {
          "name": "stdout",
          "output_type": "stream",
          "text": [
            "pear\n",
            "['apple', 'kiwi', 'cherry', 'orange', 'grape']\n"
          ]
        }
      ],
      "source": [
        "# pop()\n",
        "last_fruit = fruits.pop()\n",
        "print(last_fruit)  # Output: 'pear'\n",
        "print(fruits)"
      ]
    },
    {
      "cell_type": "code",
      "execution_count": 7,
      "metadata": {
        "id": "dPt4c-abfnSa"
      },
      "outputs": [
        {
          "name": "stdout",
          "output_type": "stream",
          "text": [
            "[]\n"
          ]
        }
      ],
      "source": [
        "# clear()\n",
        "fruits.clear()\n",
        "print(fruits)"
      ]
    },
    {
      "cell_type": "code",
      "execution_count": 10,
      "metadata": {
        "id": "3s71jzT8f5EZ"
      },
      "outputs": [
        {
          "name": "stdout",
          "output_type": "stream",
          "text": [
            "['apple', 'banana', 'cherry', 'orange']\n",
            "2\n"
          ]
        }
      ],
      "source": [
        "# index()\n",
        "print(fruits)\n",
        "index = fruits.index('cherry')\n",
        "print(index)"
      ]
    },
    {
      "cell_type": "code",
      "execution_count": 14,
      "metadata": {},
      "outputs": [
        {
          "name": "stdout",
          "output_type": "stream",
          "text": [
            "['apple', 'banana', 'cherry', 'orange', 'apple', 'apple']\n"
          ]
        }
      ],
      "source": [
        "print(fruits)"
      ]
    },
    {
      "cell_type": "code",
      "execution_count": 13,
      "metadata": {
        "id": "AyrCNBKJf7Cz"
      },
      "outputs": [
        {
          "name": "stdout",
          "output_type": "stream",
          "text": [
            "3\n"
          ]
        }
      ],
      "source": [
        "# append()\n",
        "fruits.append('apple')\n",
        "print(fruits.count('apple'))"
      ]
    },
    {
      "cell_type": "code",
      "execution_count": 17,
      "metadata": {
        "id": "w52TjRLcf83I"
      },
      "outputs": [
        {
          "name": "stdout",
          "output_type": "stream",
          "text": [
            "[1, 1, 2, 3, 4, 5, 6, 9]\n"
          ]
        }
      ],
      "source": [
        "# sort()\n",
        "numbers = [3, 1, 4, 1, 5, 9, 2, 6]\n",
        "numbers.sort()\n",
        "print(numbers)"
      ]
    },
    {
      "cell_type": "code",
      "execution_count": 18,
      "metadata": {},
      "outputs": [
        {
          "name": "stdout",
          "output_type": "stream",
          "text": [
            "['Guitar', 'Kolic', 'Ole', 'flook']\n"
          ]
        }
      ],
      "source": [
        "name = [\"Ole\", \"Guitar\", \"Kolic\", \"flook\"]\n",
        "\n",
        "name.sort()\n",
        "print(name)"
      ]
    },
    {
      "cell_type": "code",
      "execution_count": 19,
      "metadata": {
        "id": "wqTtqEXrf-va"
      },
      "outputs": [
        {
          "name": "stdout",
          "output_type": "stream",
          "text": [
            "[9, 6, 5, 4, 3, 2, 1, 1]\n"
          ]
        }
      ],
      "source": [
        "# reverse()\n",
        "numbers.reverse()\n",
        "print(numbers)"
      ]
    },
    {
      "cell_type": "code",
      "execution_count": 21,
      "metadata": {
        "id": "24BdknLagAQG"
      },
      "outputs": [
        {
          "name": "stdout",
          "output_type": "stream",
          "text": [
            "[9, 6, 5, 4, 3, 2, 1, 1]\n",
            "[9, 6, 5, 4, 3, 2, 1, 1]\n"
          ]
        }
      ],
      "source": [
        "# copy()\n",
        "numbers_copy = numbers.copy()\n",
        "print(numbers_copy)\n",
        "\n",
        "a = numbers\n",
        "print(a)\n"
      ]
    }
  ],
  "metadata": {
    "colab": {
      "authorship_tag": "ABX9TyNGcDhpFqgYnoyOz0T9142B",
      "include_colab_link": true,
      "provenance": []
    },
    "kernelspec": {
      "display_name": "Python 3",
      "name": "python3"
    },
    "language_info": {
      "codemirror_mode": {
        "name": "ipython",
        "version": 3
      },
      "file_extension": ".py",
      "mimetype": "text/x-python",
      "name": "python",
      "nbconvert_exporter": "python",
      "pygments_lexer": "ipython3",
      "version": "3.12.3"
    }
  },
  "nbformat": 4,
  "nbformat_minor": 0
}
