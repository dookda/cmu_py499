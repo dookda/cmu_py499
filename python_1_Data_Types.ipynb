{
  "cells": [
    {
      "cell_type": "markdown",
      "metadata": {
        "colab_type": "text",
        "id": "view-in-github"
      },
      "source": [
        "<a href=\"https://colab.research.google.com/github/dookda/py499/blob/main/python_1_Data_Types.ipynb\" target=\"_parent\"><img src=\"https://colab.research.google.com/assets/colab-badge.svg\" alt=\"Open In Colab\"/></a>"
      ]
    },
    {
      "cell_type": "markdown",
      "metadata": {},
      "source": [
        "ใช้ ChatGPT ช่วยในการสร้างตัวอย่าง "
      ]
    },
    {
      "cell_type": "markdown",
      "metadata": {
        "id": "TJ4jB1zLTAtK"
      },
      "source": [
        "**Primitive Data Types**\n",
        "\n",
        "หมายถึงข้อมูลที่เป็นพื้นฐานที่สุดที่ภาษาการเขียนโปรแกรมมีให้และมักจะถูกใช้เป็นหน่วยพื้นฐานในการจัดการข้อมูล ใน Python แม้ว่าจะไม่ได้มีการจำแนกชัดเจนระหว่างข้อมูลพื้นฐานและไม่พื้นฐาน แต่ข้อมูลที่ใกล้เคียงกับข้อมูลพื้นฐาน ได้แก่:\n",
        "- **เลขจำนวนเต็ม (`int`)**: เช่น `-1`, `0`, `42`\n",
        "- **เลขทศนิยม (`float`)**: เช่น `-3.14`, `0.0`, `2.71`\n",
        "- **ข้อความ (`str`)**: เช่น `\"Hello\"`, `'Python'`, `\"\"\"ข้อความหลายบรรทัด\"\"\"`\n",
        "- **บูลีน (`bool`)**: มีสองค่าคือ `True` หรือ `False`\n"
      ]
    },
    {
      "cell_type": "code",
      "execution_count": null,
      "metadata": {
        "id": "-WiEw5PMR_H-"
      },
      "outputs": [],
      "source": [
        "# Primitive types\n",
        "x = 100               # Integer\n",
        "pi = 3.14159          # Float\n",
        "name = \"John Doe\"     # String\n",
        "is_valid = True       # Boolean"
      ]
    },
    {
      "cell_type": "markdown",
      "metadata": {
        "id": "OU9TIccJUmV8"
      },
      "source": [
        "**Non-Primitive Data Types**\n",
        "\n",
        "หมายถึงข้อมูลที่ไม่ได้ถูกนิยามโดยภาษาการเขียนโปรแกรมโดยตรง แต่สามารถถูกสร้างขึ้นโดยผู้เขียนโปรแกรม เช่น:\n",
        "- **ลิสต์ (Lists)**: รวมข้อมูลได้หลากหลายและสามารถเปลี่ยนแปลงได้ เช่น `[1, 'hello', 3.14]`\n",
        "- **ทูเพิล (Tuples)**: เหมือนลิสต์แต่เปลี่ยนแปลงไม่ได้ เช่น `(1, 'hello', 3.14)`\n",
        "- **ดิกชันนารี (Dictionaries)**: รวมข้อมูลในรูปแบบคู่ของคีย์และค่า เช่น `{'name': 'Alice', 'age': 25}`\n",
        "- **เซต (Sets)**: รวมข้อมูลที่ไม่ซ้ำกัน เช่น `{1, 2, 3, 4, 5}`\n",
        "\n",
        "\n",
        "\n",
        "\n"
      ]
    },
    {
      "cell_type": "code",
      "execution_count": null,
      "metadata": {
        "id": "LLJYPb9_TIJy"
      },
      "outputs": [],
      "source": [
        "# Non-primitive types\n",
        "numbers = [1, 2, 3, 4, 5]            # List\n",
        "coordinates = (10.0, 20.0)           # Tuple\n",
        "user_info = {'name': 'John', 'age': 30} # Dictionary\n",
        "unique_numbers = {1, 2, 3, 4, 5}     # Set"
      ]
    }
  ],
  "metadata": {
    "colab": {
      "authorship_tag": "ABX9TyPv7NgVafFuNfgAuxg9uffl",
      "include_colab_link": true,
      "provenance": []
    },
    "kernelspec": {
      "display_name": "Python 3",
      "name": "python3"
    },
    "language_info": {
      "name": "python"
    }
  },
  "nbformat": 4,
  "nbformat_minor": 0
}
