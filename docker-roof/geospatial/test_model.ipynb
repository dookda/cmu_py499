{
 "cells": [
  {
   "cell_type": "markdown",
   "metadata": {},
   "source": [
    "conda create -n geo python\n",
    "\n",
    "conda activate geo\n",
    "\n",
    "conda install -c conda-forge mamba\n",
    "\n",
    "mamba install -c conda-forge segment-geospatial\n",
    "\n",
    "pip install ultralytics"
   ]
  },
  {
   "cell_type": "code",
   "execution_count": 54,
   "metadata": {},
   "outputs": [],
   "source": [
    "# import samgeo\n",
    "import os\n",
    "import torch\n",
    "# from samgeo import SamGeo, tms_to_geotiff\n",
    "from tms_to_geotiff import tms_to_geotiff"
   ]
  },
  {
   "cell_type": "code",
   "execution_count": null,
   "metadata": {},
   "outputs": [],
   "source": [
    "\n",
    "# bottom left, top right,\n",
    "bbox = [98.97833929776746,18.782291559223832,  98.99318992500658, 18.794283998891945]\n",
    "image = 'satellite.tif'\n",
    "tms_to_geotiff(output=image, bbox=bbox, zoom=20, source='Satellite', overwrite=True)"
   ]
  },
  {
   "cell_type": "code",
   "execution_count": null,
   "metadata": {},
   "outputs": [],
   "source": [
    "from ultralytics import YOLO\n",
    "import cv2\n",
    "import matplotlib.pyplot as plt\n",
    "# Load a pretrained YOLOv8n model\n",
    "model = YOLO(\"best_joam.pt\")\n",
    "\n",
    "# Run inference on 'bus.jpg' with arguments\n",
    "results = model.predict(\"satellite.tif\", save=True, imgsz=640, conf=0.5)\n",
    "# results = bestModel.predict(source=imagePath, imgsz=640)\n",
    "\n",
    "annotatedImage = results[0].plot()\n",
    "annotatedImageRGB = cv2.cvtColor(annotatedImage, cv2.COLOR_BGR2RGB)\n",
    "plt.imshow(annotatedImageRGB)\n",
    "plt.axis('off')\n",
    "plt.tight_layout()\n",
    "plt.show()"
   ]
  },
  {
   "cell_type": "code",
   "execution_count": 57,
   "metadata": {},
   "outputs": [
    {
     "name": "stdout",
     "output_type": "stream",
     "text": [
      "\n",
      "image 1/1 /Users/sakdahomhuan/Dev/segment-geospatial/tests/satellite.tif: 320x640 8 Cement Roofs, 18 Metal roofs, 1 Other roof, 19 Concrete roofs, 2184.6ms\n",
      "Speed: 8.0ms preprocess, 2184.6ms inference, 29.2ms postprocess per image at shape (1, 3, 320, 640)\n",
      "Results saved to \u001b[1m/opt/homebrew/runs/segment/predict20\u001b[0m\n",
      "Saved combined GeoJSON to combined_segments.geojson\n"
     ]
    }
   ],
   "source": [
    "from ultralytics import YOLO\n",
    "import cv2\n",
    "import matplotlib.pyplot as plt\n",
    "import rasterio\n",
    "from rasterio.features import shapes\n",
    "from shapely.geometry import shape, mapping\n",
    "import geopandas as gpd\n",
    "import pandas as pd\n",
    "import numpy as np\n",
    "import os\n",
    "\n",
    "model = YOLO(\"best_joam.pt\")\n",
    "\n",
    "results = model.predict(\"satellite.tif\", save=True, imgsz=640, conf=0.5)\n",
    "\n",
    "with rasterio.open(\"satellite.tif\") as src:\n",
    "    transform = src.transform\n",
    "    crs = src.crs\n",
    "    height, width = src.height, src.width\n",
    "\n",
    "gdfs = []\n",
    "\n",
    "for i, mask in enumerate(results[0].masks.data):\n",
    "    mask = mask.cpu().numpy().astype('uint8')\n",
    "    \n",
    "    class_index = int(results[0].boxes.cls[i])\n",
    "    label = results[0].names[class_index]\n",
    "\n",
    "    output_file = f\"segment_{i+1}.tif\"\n",
    "    with rasterio.open(\n",
    "        output_file,\n",
    "        \"w\",\n",
    "        driver=\"GTiff\",\n",
    "        height=height,\n",
    "        width=width,\n",
    "        count=1,\n",
    "        dtype=mask.dtype,\n",
    "        crs=crs,\n",
    "        transform=transform,\n",
    "    ) as dst:\n",
    "        dst.write(mask, 1)\n",
    "    \n",
    "    with rasterio.open(output_file) as src:\n",
    "        mask_data = src.read(1)\n",
    "        mask_transform = src.transform\n",
    "\n",
    "        shapes_gen = shapes(mask_data, transform=mask_transform)\n",
    "        polygons = [shape(geom) for geom, val in shapes_gen if val == 1]\n",
    "\n",
    "        gdf = gpd.GeoDataFrame(geometry=polygons, crs=crs)\n",
    "        gdf['label'] = label\n",
    "        gdfs.append(gdf)\n",
    "\n",
    "    os.remove(output_file)\n",
    "\n",
    "combined_gdf = gpd.GeoDataFrame(pd.concat(gdfs, ignore_index=True))\n",
    "combined_geojson_output_file = \"combined_segments.geojson\"\n",
    "combined_gdf.to_file(combined_geojson_output_file, driver='GeoJSON')\n",
    "\n",
    "print(f\"Saved combined GeoJSON to {combined_geojson_output_file}\")\n",
    "\n",
    "\n"
   ]
  }
 ],
 "metadata": {
  "kernelspec": {
   "display_name": "geo",
   "language": "python",
   "name": "python3"
  },
  "language_info": {
   "codemirror_mode": {
    "name": "ipython",
    "version": 3
   },
   "file_extension": ".py",
   "mimetype": "text/x-python",
   "name": "python",
   "nbconvert_exporter": "python",
   "pygments_lexer": "ipython3",
   "version": "3.12.2"
  }
 },
 "nbformat": 4,
 "nbformat_minor": 2
}
