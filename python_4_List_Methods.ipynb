{
  "nbformat": 4,
  "nbformat_minor": 0,
  "metadata": {
    "colab": {
      "provenance": [],
      "authorship_tag": "ABX9TyNGcDhpFqgYnoyOz0T9142B",
      "include_colab_link": true
    },
    "kernelspec": {
      "name": "python3",
      "display_name": "Python 3"
    },
    "language_info": {
      "name": "python"
    }
  },
  "cells": [
    {
      "cell_type": "markdown",
      "metadata": {
        "id": "view-in-github",
        "colab_type": "text"
      },
      "source": [
        "<a href=\"https://colab.research.google.com/github/dookda/py499/blob/main/python_4_List_Methods.ipynb\" target=\"_parent\"><img src=\"https://colab.research.google.com/assets/colab-badge.svg\" alt=\"Open In Colab\"/></a>"
      ]
    },
    {
      "cell_type": "markdown",
      "source": [
        "List Methods"
      ],
      "metadata": {
        "id": "1Ya6dhy_fPL_"
      }
    },
    {
      "cell_type": "code",
      "source": [
        "# append()\n",
        "fruits = ['apple', 'banana', 'cherry']\n",
        "fruits.append('orange')\n",
        "print(fruits)"
      ],
      "metadata": {
        "id": "IWVKxmwLfM4Q"
      },
      "execution_count": null,
      "outputs": []
    },
    {
      "cell_type": "code",
      "execution_count": null,
      "metadata": {
        "id": "Hhjx2sAyfFSQ"
      },
      "outputs": [],
      "source": [
        "# extend()\n",
        "more_fruits = ['grape', 'pear']\n",
        "fruits.extend(more_fruits)\n",
        "print(fruits)"
      ]
    },
    {
      "cell_type": "code",
      "source": [
        "# insert()\n",
        "fruits.insert(1, 'kiwi')\n",
        "print(fruits)"
      ],
      "metadata": {
        "id": "1CXTow4rfb96"
      },
      "execution_count": null,
      "outputs": []
    },
    {
      "cell_type": "code",
      "source": [
        "# remove()\n",
        "fruits.remove('banana')\n",
        "print(fruits)"
      ],
      "metadata": {
        "id": "KwPPaH7PfeMk"
      },
      "execution_count": null,
      "outputs": []
    },
    {
      "cell_type": "code",
      "source": [
        "# pop()\n",
        "last_fruit = fruits.pop()\n",
        "print(last_fruit)  # Output: 'pear'\n",
        "print(fruits)"
      ],
      "metadata": {
        "id": "twZy4YGHfiwh"
      },
      "execution_count": null,
      "outputs": []
    },
    {
      "cell_type": "code",
      "source": [
        "# clear()\n",
        "fruits.clear()\n",
        "print(fruits)"
      ],
      "metadata": {
        "id": "dPt4c-abfnSa"
      },
      "execution_count": null,
      "outputs": []
    },
    {
      "cell_type": "code",
      "source": [
        "# index()\n",
        "index = fruits.index('cherry')\n",
        "print(index)"
      ],
      "metadata": {
        "id": "3s71jzT8f5EZ"
      },
      "execution_count": null,
      "outputs": []
    },
    {
      "cell_type": "code",
      "source": [
        "# append()\n",
        "fruits.append('apple')\n",
        "print(fruits.count('apple'))"
      ],
      "metadata": {
        "id": "AyrCNBKJf7Cz"
      },
      "execution_count": null,
      "outputs": []
    },
    {
      "cell_type": "code",
      "source": [
        "# sort()\n",
        "numbers = [3, 1, 4, 1, 5, 9, 2, 6]\n",
        "numbers.sort()\n",
        "print(numbers)"
      ],
      "metadata": {
        "id": "w52TjRLcf83I"
      },
      "execution_count": null,
      "outputs": []
    },
    {
      "cell_type": "code",
      "source": [
        "# reverse()\n",
        "numbers.reverse()\n",
        "print(numbers)"
      ],
      "metadata": {
        "id": "wqTtqEXrf-va"
      },
      "execution_count": null,
      "outputs": []
    },
    {
      "cell_type": "code",
      "source": [
        "# copy()\n",
        "numbers_copy = numbers.copy()\n",
        "print(numbers_copy)"
      ],
      "metadata": {
        "id": "24BdknLagAQG"
      },
      "execution_count": null,
      "outputs": []
    }
  ]
}