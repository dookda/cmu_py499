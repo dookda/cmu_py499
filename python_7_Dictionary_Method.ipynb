{
  "cells": [
    {
      "cell_type": "markdown",
      "metadata": {
        "colab_type": "text",
        "id": "view-in-github"
      },
      "source": [
        "<a href=\"https://colab.research.google.com/github/dookda/py499/blob/main/python_7_Dictionary_Method.ipynb\" target=\"_parent\"><img src=\"https://colab.research.google.com/assets/colab-badge.svg\" alt=\"Open In Colab\"/></a>"
      ]
    },
    {
      "cell_type": "markdown",
      "metadata": {
        "id": "i5XGtbG4lCko"
      },
      "source": [
        "Method สำหรับ Dictionary"
      ]
    },
    {
      "cell_type": "code",
      "execution_count": null,
      "metadata": {
        "id": "ZYT5DOvXk3ZC"
      },
      "outputs": [],
      "source": [
        "# get()\n",
        "my_dict = {'name': 'Alice', 'age': 25}\n",
        "print(my_dict.get('name'))  # Output: Alice\n",
        "print(my_dict.get('height', 'Not found'))  # Output: Not found\n",
        "\n",
        "\n",
        "age = my_dict.get('age')\n",
        "age2 = my_dict[\"age\"]\n",
        "print(age, age2)\n"
      ]
    },
    {
      "cell_type": "code",
      "execution_count": 4,
      "metadata": {
        "id": "SH94g8dglL7o"
      },
      "outputs": [
        {
          "name": "stdout",
          "output_type": "stream",
          "text": [
            "{'name': 'Alice', 'age': 26, 'city': 'New York'}\n"
          ]
        }
      ],
      "source": [
        "# update()\n",
        "my_dict.update({'age': 26, 'city': 'New York'})\n",
        "print(my_dict)  # Output: {'name': 'Alice', 'age': 26, 'city': 'New York'}\n"
      ]
    },
    {
      "cell_type": "code",
      "execution_count": 7,
      "metadata": {},
      "outputs": [
        {
          "name": "stdout",
          "output_type": "stream",
          "text": [
            "{'name': 'Alice', 'age': 28, 'city': 'New York'}\n"
          ]
        }
      ],
      "source": [
        "# my_dict.update({'age': 27})\n",
        "my_dict['age'] = 28\n",
        "\n",
        "print(my_dict)"
      ]
    },
    {
      "cell_type": "code",
      "execution_count": 8,
      "metadata": {
        "id": "lCSXzQvVlQMC"
      },
      "outputs": [
        {
          "name": "stdout",
          "output_type": "stream",
          "text": [
            "dict_keys(['name', 'age', 'city'])\n"
          ]
        }
      ],
      "source": [
        "# keys()\n",
        "print(my_dict.keys())  # Output: dict_keys(['name', 'age', 'city'])\n"
      ]
    },
    {
      "cell_type": "code",
      "execution_count": 9,
      "metadata": {
        "id": "VeLivqDrlVLc"
      },
      "outputs": [
        {
          "name": "stdout",
          "output_type": "stream",
          "text": [
            "dict_values(['Alice', 28, 'New York'])\n"
          ]
        }
      ],
      "source": [
        "# values()\n",
        "print(my_dict.values())  # Output: dict_values(['Alice', 26, 'New York'])\n"
      ]
    },
    {
      "cell_type": "code",
      "execution_count": 10,
      "metadata": {
        "id": "adSMm64BlYfg"
      },
      "outputs": [
        {
          "name": "stdout",
          "output_type": "stream",
          "text": [
            "dict_items([('name', 'Alice'), ('age', 28), ('city', 'New York')])\n"
          ]
        }
      ],
      "source": [
        "# items()\n",
        "print(my_dict.items())  # Output: dict_items([('name', 'Alice'), ('age', 26), ('city', 'New York')])\n"
      ]
    },
    {
      "cell_type": "code",
      "execution_count": 11,
      "metadata": {
        "id": "2bk_SdQqldYH"
      },
      "outputs": [
        {
          "name": "stdout",
          "output_type": "stream",
          "text": [
            "28\n",
            "{'name': 'Alice', 'city': 'New York'}\n"
          ]
        }
      ],
      "source": [
        "# pop()\n",
        "print(my_dict.pop('age'))  # Output: 26\n",
        "print(my_dict)            # Output: {'name': 'Alice', 'city': 'New York'}\n"
      ]
    },
    {
      "cell_type": "code",
      "execution_count": 12,
      "metadata": {
        "id": "VC3H7OtSlhhA"
      },
      "outputs": [
        {
          "name": "stdout",
          "output_type": "stream",
          "text": [
            "('city', 'New York')\n",
            "{'name': 'Alice'}\n"
          ]
        }
      ],
      "source": [
        "# popitem()\n",
        "print(my_dict.popitem())  # Output: ('city', 'New York')\n",
        "print(my_dict)            # Output: {'name': 'Alice'}\n"
      ]
    },
    {
      "cell_type": "code",
      "execution_count": null,
      "metadata": {
        "id": "EUarN0N5lvdt"
      },
      "outputs": [],
      "source": [
        "# clear()\n",
        "my_dict.clear()\n",
        "print(my_dict)  # Output: {}\n"
      ]
    },
    {
      "cell_type": "code",
      "execution_count": null,
      "metadata": {
        "id": "UXExnPLYlyRf"
      },
      "outputs": [],
      "source": [
        "# copy()\n",
        "original = {'name': 'Bob', 'age': 30}\n",
        "copy_dict = original.copy()\n",
        "print(copy_dict)  # Output: {'name': 'Bob', 'age': 30}\n"
      ]
    },
    {
      "cell_type": "code",
      "execution_count": null,
      "metadata": {
        "id": "G-eb32Ril2Uw"
      },
      "outputs": [],
      "source": [
        "# setdefault()\n",
        "person = {'name': 'Alice', 'age': 25}\n",
        "person.setdefault('name', 'Anonymous')  # Does nothing since 'name' exists\n",
        "person.setdefault('job', 'Engineer')    # Adds 'job' key with value 'Engineer'\n",
        "print(person)  # Output: {'name': 'Alice', 'age': 25, 'job': 'Engineer'}\n"
      ]
    },
    {
      "cell_type": "code",
      "execution_count": 13,
      "metadata": {
        "id": "Eb85L_JKl8B8"
      },
      "outputs": [
        {
          "name": "stdout",
          "output_type": "stream",
          "text": [
            "{'a': 0, 'b': 0, 'c': 0}\n"
          ]
        }
      ],
      "source": [
        "# fromkeys()\n",
        "keys = ['a', 'b', 'c']\n",
        "value = 0\n",
        "new_dict = dict.fromkeys(keys, value)\n",
        "print(new_dict)  # Output: {'a': 0, 'b': 0, 'c': 0}\n"
      ]
    }
  ],
  "metadata": {
    "colab": {
      "authorship_tag": "ABX9TyMGgytNm24y5SRkHEiAox0D",
      "include_colab_link": true,
      "provenance": []
    },
    "kernelspec": {
      "display_name": "Python 3",
      "name": "python3"
    },
    "language_info": {
      "codemirror_mode": {
        "name": "ipython",
        "version": 3
      },
      "file_extension": ".py",
      "mimetype": "text/x-python",
      "name": "python",
      "nbconvert_exporter": "python",
      "pygments_lexer": "ipython3",
      "version": "3.12.3"
    }
  },
  "nbformat": 4,
  "nbformat_minor": 0
}
