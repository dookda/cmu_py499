{
  "cells": [
    {
      "cell_type": "markdown",
      "metadata": {
        "colab_type": "text",
        "id": "view-in-github"
      },
      "source": [
        "<a href=\"https://colab.research.google.com/github/dookda/py499/blob/main/python_7_Dictionary_Method.ipynb\" target=\"_parent\"><img src=\"https://colab.research.google.com/assets/colab-badge.svg\" alt=\"Open In Colab\"/></a>"
      ]
    },
    {
      "cell_type": "markdown",
      "metadata": {
        "id": "i5XGtbG4lCko"
      },
      "source": [
        "Method สำหรับ Dictionary"
      ]
    },
    {
      "cell_type": "code",
      "execution_count": null,
      "metadata": {
        "id": "ZYT5DOvXk3ZC"
      },
      "outputs": [],
      "source": [
        "# get()\n",
        "my_dict = {'name': 'Alice', 'age': 25}\n",
        "print(my_dict.get('name'))  # Output: Alice\n",
        "print(my_dict.get('height', 'Not found'))  # Output: Not found\n"
      ]
    },
    {
      "cell_type": "code",
      "execution_count": null,
      "metadata": {
        "id": "SH94g8dglL7o"
      },
      "outputs": [],
      "source": [
        "# update()\n",
        "my_dict.update({'age': 26, 'city': 'New York'})\n",
        "print(my_dict)  # Output: {'name': 'Alice', 'age': 26, 'city': 'New York'}\n"
      ]
    },
    {
      "cell_type": "code",
      "execution_count": null,
      "metadata": {
        "id": "lCSXzQvVlQMC"
      },
      "outputs": [],
      "source": [
        "# keys()\n",
        "print(my_dict.keys())  # Output: dict_keys(['name', 'age', 'city'])\n"
      ]
    },
    {
      "cell_type": "code",
      "execution_count": null,
      "metadata": {
        "id": "VeLivqDrlVLc"
      },
      "outputs": [],
      "source": [
        "# values()\n",
        "print(my_dict.values())  # Output: dict_values(['Alice', 26, 'New York'])\n"
      ]
    },
    {
      "cell_type": "code",
      "execution_count": null,
      "metadata": {
        "id": "adSMm64BlYfg"
      },
      "outputs": [],
      "source": [
        "# items()\n",
        "print(my_dict.items())  # Output: dict_items([('name', 'Alice'), ('age', 26), ('city', 'New York')])\n"
      ]
    },
    {
      "cell_type": "code",
      "execution_count": null,
      "metadata": {
        "id": "2bk_SdQqldYH"
      },
      "outputs": [],
      "source": [
        "# pop()\n",
        "print(my_dict.pop('age'))  # Output: 26\n",
        "print(my_dict)            # Output: {'name': 'Alice', 'city': 'New York'}\n"
      ]
    },
    {
      "cell_type": "code",
      "execution_count": null,
      "metadata": {
        "id": "VC3H7OtSlhhA"
      },
      "outputs": [],
      "source": [
        "# popitem()\n",
        "print(my_dict.popitem())  # Output: ('city', 'New York')\n",
        "print(my_dict)            # Output: {'name': 'Alice'}\n"
      ]
    },
    {
      "cell_type": "code",
      "execution_count": null,
      "metadata": {
        "id": "EUarN0N5lvdt"
      },
      "outputs": [],
      "source": [
        "# clear()\n",
        "my_dict.clear()\n",
        "print(my_dict)  # Output: {}\n"
      ]
    },
    {
      "cell_type": "code",
      "execution_count": null,
      "metadata": {
        "id": "UXExnPLYlyRf"
      },
      "outputs": [],
      "source": [
        "# copy()\n",
        "original = {'name': 'Bob', 'age': 30}\n",
        "copy_dict = original.copy()\n",
        "print(copy_dict)  # Output: {'name': 'Bob', 'age': 30}\n"
      ]
    },
    {
      "cell_type": "code",
      "execution_count": null,
      "metadata": {
        "id": "G-eb32Ril2Uw"
      },
      "outputs": [],
      "source": [
        "# setdefault()\n",
        "person = {'name': 'Alice', 'age': 25}\n",
        "person.setdefault('name', 'Anonymous')  # Does nothing since 'name' exists\n",
        "person.setdefault('job', 'Engineer')    # Adds 'job' key with value 'Engineer'\n",
        "print(person)  # Output: {'name': 'Alice', 'age': 25, 'job': 'Engineer'}\n"
      ]
    },
    {
      "cell_type": "code",
      "execution_count": null,
      "metadata": {
        "id": "Eb85L_JKl8B8"
      },
      "outputs": [],
      "source": [
        "# fromkeys()\n",
        "keys = ['a', 'b', 'c']\n",
        "value = 0\n",
        "new_dict = dict.fromkeys(keys, value)\n",
        "print(new_dict)  # Output: {'a': 0, 'b': 0, 'c': 0}\n"
      ]
    }
  ],
  "metadata": {
    "colab": {
      "authorship_tag": "ABX9TyMGgytNm24y5SRkHEiAox0D",
      "include_colab_link": true,
      "provenance": []
    },
    "kernelspec": {
      "display_name": "Python 3",
      "name": "python3"
    },
    "language_info": {
      "name": "python"
    }
  },
  "nbformat": 4,
  "nbformat_minor": 0
}
