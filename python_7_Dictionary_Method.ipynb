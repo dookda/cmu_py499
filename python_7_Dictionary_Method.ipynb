{
  "nbformat": 4,
  "nbformat_minor": 0,
  "metadata": {
    "colab": {
      "provenance": [],
      "authorship_tag": "ABX9TyMGgytNm24y5SRkHEiAox0D",
      "include_colab_link": true
    },
    "kernelspec": {
      "name": "python3",
      "display_name": "Python 3"
    },
    "language_info": {
      "name": "python"
    }
  },
  "cells": [
    {
      "cell_type": "markdown",
      "metadata": {
        "id": "view-in-github",
        "colab_type": "text"
      },
      "source": [
        "<a href=\"https://colab.research.google.com/github/dookda/py499/blob/main/python_7_Dictionary_Method.ipynb\" target=\"_parent\"><img src=\"https://colab.research.google.com/assets/colab-badge.svg\" alt=\"Open In Colab\"/></a>"
      ]
    },
    {
      "cell_type": "markdown",
      "source": [
        "Dictionary_Method"
      ],
      "metadata": {
        "id": "i5XGtbG4lCko"
      }
    },
    {
      "cell_type": "code",
      "execution_count": null,
      "metadata": {
        "id": "ZYT5DOvXk3ZC"
      },
      "outputs": [],
      "source": [
        "# get()\n",
        "my_dict = {'name': 'Alice', 'age': 25}\n",
        "print(my_dict.get('name'))  # Output: Alice\n",
        "print(my_dict.get('height', 'Not found'))  # Output: Not found\n"
      ]
    },
    {
      "cell_type": "code",
      "source": [
        "# update()\n",
        "my_dict.update({'age': 26, 'city': 'New York'})\n",
        "print(my_dict)  # Output: {'name': 'Alice', 'age': 26, 'city': 'New York'}\n"
      ],
      "metadata": {
        "id": "SH94g8dglL7o"
      },
      "execution_count": null,
      "outputs": []
    },
    {
      "cell_type": "code",
      "source": [
        "# keys()\n",
        "print(my_dict.keys())  # Output: dict_keys(['name', 'age', 'city'])\n"
      ],
      "metadata": {
        "id": "lCSXzQvVlQMC"
      },
      "execution_count": null,
      "outputs": []
    },
    {
      "cell_type": "code",
      "source": [
        "# values()\n",
        "print(my_dict.values())  # Output: dict_values(['Alice', 26, 'New York'])\n"
      ],
      "metadata": {
        "id": "VeLivqDrlVLc"
      },
      "execution_count": null,
      "outputs": []
    },
    {
      "cell_type": "code",
      "source": [
        "# items()\n",
        "print(my_dict.items())  # Output: dict_items([('name', 'Alice'), ('age', 26), ('city', 'New York')])\n"
      ],
      "metadata": {
        "id": "adSMm64BlYfg"
      },
      "execution_count": null,
      "outputs": []
    },
    {
      "cell_type": "code",
      "source": [
        "# pop()\n",
        "print(my_dict.pop('age'))  # Output: 26\n",
        "print(my_dict)            # Output: {'name': 'Alice', 'city': 'New York'}\n"
      ],
      "metadata": {
        "id": "2bk_SdQqldYH"
      },
      "execution_count": null,
      "outputs": []
    },
    {
      "cell_type": "code",
      "source": [
        "# popitem()\n",
        "print(my_dict.popitem())  # Output: ('city', 'New York')\n",
        "print(my_dict)            # Output: {'name': 'Alice'}\n"
      ],
      "metadata": {
        "id": "VC3H7OtSlhhA"
      },
      "execution_count": null,
      "outputs": []
    },
    {
      "cell_type": "code",
      "source": [
        "# clear()\n",
        "my_dict.clear()\n",
        "print(my_dict)  # Output: {}\n"
      ],
      "metadata": {
        "id": "EUarN0N5lvdt"
      },
      "execution_count": null,
      "outputs": []
    },
    {
      "cell_type": "code",
      "source": [
        "# copy()\n",
        "original = {'name': 'Bob', 'age': 30}\n",
        "copy_dict = original.copy()\n",
        "print(copy_dict)  # Output: {'name': 'Bob', 'age': 30}\n"
      ],
      "metadata": {
        "id": "UXExnPLYlyRf"
      },
      "execution_count": null,
      "outputs": []
    },
    {
      "cell_type": "code",
      "source": [
        "# setdefault()\n",
        "person = {'name': 'Alice', 'age': 25}\n",
        "person.setdefault('name', 'Anonymous')  # Does nothing since 'name' exists\n",
        "person.setdefault('job', 'Engineer')    # Adds 'job' key with value 'Engineer'\n",
        "print(person)  # Output: {'name': 'Alice', 'age': 25, 'job': 'Engineer'}\n"
      ],
      "metadata": {
        "id": "G-eb32Ril2Uw"
      },
      "execution_count": null,
      "outputs": []
    },
    {
      "cell_type": "code",
      "source": [
        "# fromkeys()\n",
        "keys = ['a', 'b', 'c']\n",
        "value = 0\n",
        "new_dict = dict.fromkeys(keys, value)\n",
        "print(new_dict)  # Output: {'a': 0, 'b': 0, 'c': 0}\n"
      ],
      "metadata": {
        "id": "Eb85L_JKl8B8"
      },
      "execution_count": null,
      "outputs": []
    }
  ]
}