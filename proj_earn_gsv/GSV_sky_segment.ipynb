{
 "cells": [
  {
   "cell_type": "code",
   "execution_count": null,
   "metadata": {},
   "outputs": [],
   "source": [
    "import matplotlib.pyplot as plt\n",
    "import seaborn as sns\n",
    "import os\n",
    "import cv2\n",
    "from PIL import Image\n",
    "from ultralytics import YOLO\n",
    "import random\n",
    "\n",
    "# Set up paths\n",
    "dataDir = os.path.join(os.getcwd(), 'YOLODataset')\n",
    "trainImagePath = os.path.join(dataDir, 'train', 'images')\n",
    "yamlFilePath = os.path.join(dataDir, 'dataset.yaml')\n",
    "\n",
    "# Load model\n",
    "model = YOLO('yolov8n-seg.pt')\n",
    "\n",
    "# Training configuration\n",
    "results = model.train(\n",
    "    data=yamlFilePath,\n",
    "    epochs=10,\n",
    "    imgsz=640,\n",
    "    batch=32,\n",
    "    optimizer='auto',\n",
    "    lr0=0.0001,\n",
    "    lrf=0.01,\n",
    "    dropout=0.25,\n",
    "    device='cpu',  # Use 'cuda' for GPU\n",
    "    seed=42,\n",
    "    project=os.getcwd(), \n",
    "    name='model' \n",
    ")\n",
    "\n",
    "# Load the best model saved during training\n",
    "model = YOLO(os.path.join(results.save_dir, 'best.pt'))\n",
    "\n",
    "# Predict on new images\n",
    "testImagePath = os.path.join(dataDir, 'test', 'images')\n",
    "testImages = [os.path.join(testImagePath, f) for f in os.listdir(testImagePath) if f.endswith('.jpg')]\n",
    "\n",
    "for i, ax in enumerate(axes.flatten()):\n",
    "  imagePath = os.path.join(validImagePath, selectedImage[i])\n",
    "  results = bestModel.predict(source=imagePath, imgsz=640)\n",
    "  annotatedImage = results[0].plot()\n",
    "  annotatedImageRGB = cv2.cvtColor(annotatedImage, cv2.COLOR_BGR2RGB)\n",
    "  ax.imshow(annotatedImageRGB)\n",
    "  ax.axis('off')\n",
    "\n",
    "plt.tight_layout()\n",
    "plt.show()\n",
    "\n",
    "\n"
   ]
  }
 ],
 "metadata": {
  "kernelspec": {
   "display_name": "yolo",
   "language": "python",
   "name": "python3"
  },
  "language_info": {
   "codemirror_mode": {
    "name": "ipython",
    "version": 3
   },
   "file_extension": ".py",
   "mimetype": "text/x-python",
   "name": "python",
   "nbconvert_exporter": "python",
   "pygments_lexer": "ipython3",
   "version": "3.12.3"
  }
 },
 "nbformat": 4,
 "nbformat_minor": 2
}
