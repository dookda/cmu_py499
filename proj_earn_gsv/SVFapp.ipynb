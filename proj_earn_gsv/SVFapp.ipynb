{
 "cells": [
  {
   "cell_type": "code",
   "execution_count": 1,
   "metadata": {},
   "outputs": [
    {
     "ename": "AttributeError",
     "evalue": "'GSVCapture' object has no attribute 'input_shape'",
     "output_type": "error",
     "traceback": [
      "\u001b[0;31m---------------------------------------------------------------------------\u001b[0m",
      "\u001b[0;31mAttributeError\u001b[0m                            Traceback (most recent call last)",
      "Cell \u001b[0;32mIn[1], line 5\u001b[0m\n\u001b[1;32m      1\u001b[0m \u001b[38;5;28;01mfrom\u001b[39;00m \u001b[38;5;21;01mSVFcore_mo\u001b[39;00m \u001b[38;5;28;01mimport\u001b[39;00m GSVCapture \n\u001b[1;32m      3\u001b[0m gsv \u001b[38;5;241m=\u001b[39m GSVCapture()\n\u001b[0;32m----> 5\u001b[0m \u001b[43mgsv\u001b[49m\u001b[38;5;241;43m.\u001b[39;49m\u001b[43mgetByLatLong\u001b[49m\u001b[43m(\u001b[49m\u001b[43moutdir\u001b[49m\u001b[38;5;241;43m=\u001b[39;49m\u001b[38;5;124;43m'\u001b[39;49m\u001b[38;5;124;43mimg\u001b[39;49m\u001b[38;5;124;43m'\u001b[39;49m\u001b[43m,\u001b[49m\u001b[43m \u001b[49m\u001b[43mlat\u001b[49m\u001b[38;5;241;43m=\u001b[39;49m\u001b[38;5;241;43m18.797170700756716\u001b[39;49m\u001b[43m,\u001b[49m\u001b[43m \u001b[49m\u001b[43mlon\u001b[49m\u001b[38;5;241;43m=\u001b[39;49m\u001b[38;5;241;43m98.96122872758568\u001b[39;49m\u001b[43m)\u001b[49m\n",
      "File \u001b[0;32m~/Dev/cmu_py499/proj_earn_gsv/SVFcore_mo.py:281\u001b[0m, in \u001b[0;36mGSVCapture.getByLatLong\u001b[0;34m(self, outdir, lat, lon)\u001b[0m\n\u001b[1;32m    279\u001b[0m outdir \u001b[38;5;241m=\u001b[39m \u001b[38;5;28mself\u001b[39m\u001b[38;5;241m.\u001b[39mcheckDir(outdir)\n\u001b[1;32m    280\u001b[0m outdir \u001b[38;5;241m=\u001b[39m outdir \u001b[38;5;241m+\u001b[39m pano\u001b[38;5;241m.\u001b[39mpanoid \u001b[38;5;241m+\u001b[39m \u001b[38;5;124m'\u001b[39m\u001b[38;5;124m/\u001b[39m\u001b[38;5;124m'\u001b[39m\n\u001b[0;32m--> 281\u001b[0m result \u001b[38;5;241m=\u001b[39m \u001b[38;5;28;43mself\u001b[39;49m\u001b[38;5;241;43m.\u001b[39;49m\u001b[43mgetByID\u001b[49m\u001b[43m(\u001b[49m\u001b[43moutdir\u001b[49m\u001b[43m,\u001b[49m\u001b[43m \u001b[49m\u001b[43mpano\u001b[49m\u001b[38;5;241;43m.\u001b[39;49m\u001b[43mpanoid\u001b[49m\u001b[43m)\u001b[49m\n\u001b[1;32m    282\u001b[0m \u001b[38;5;28;01mif\u001b[39;00m \u001b[38;5;28mlen\u001b[39m(result) \u001b[38;5;241m==\u001b[39m \u001b[38;5;241m3\u001b[39m:\n\u001b[1;32m    283\u001b[0m     pano\u001b[38;5;241m.\u001b[39msvf \u001b[38;5;241m=\u001b[39m result[\u001b[38;5;241m0\u001b[39m]\n",
      "File \u001b[0;32m~/Dev/cmu_py499/proj_earn_gsv/SVFcore_mo.py:268\u001b[0m, in \u001b[0;36mGSVCapture.getByID\u001b[0;34m(self, outdir, panoid)\u001b[0m\n\u001b[1;32m    266\u001b[0m mosaic \u001b[38;5;241m=\u001b[39m mosaic\u001b[38;5;241m.\u001b[39mresize((\u001b[38;5;241m1024\u001b[39m, \u001b[38;5;241m512\u001b[39m))\n\u001b[1;32m    267\u001b[0m mosaic\u001b[38;5;241m.\u001b[39msave(outdir \u001b[38;5;241m+\u001b[39m \u001b[38;5;124m\"\u001b[39m\u001b[38;5;124mmosaic.png\u001b[39m\u001b[38;5;124m\"\u001b[39m)\n\u001b[0;32m--> 268\u001b[0m \u001b[38;5;28;43mself\u001b[39;49m\u001b[38;5;241;43m.\u001b[39;49m\u001b[43mclassify\u001b[49m\u001b[43m(\u001b[49m\u001b[43moutdir\u001b[49m\u001b[43m \u001b[49m\u001b[38;5;241;43m+\u001b[39;49m\u001b[43m \u001b[49m\u001b[38;5;124;43m\"\u001b[39;49m\u001b[38;5;124;43mmosaic.png\u001b[39;49m\u001b[38;5;124;43m\"\u001b[39;49m\u001b[43m,\u001b[49m\u001b[43m \u001b[49m\u001b[43moutdir\u001b[49m\u001b[43m \u001b[49m\u001b[38;5;241;43m+\u001b[39;49m\u001b[43m \u001b[49m\u001b[38;5;124;43m\"\u001b[39;49m\u001b[38;5;124;43mmosaic_classified.png\u001b[39;49m\u001b[38;5;124;43m\"\u001b[39;49m\u001b[43m)\u001b[49m\n\u001b[1;32m    269\u001b[0m \u001b[38;5;28mself\u001b[39m\u001b[38;5;241m.\u001b[39mequirectangular2fisheye(\n\u001b[1;32m    270\u001b[0m     outdir \u001b[38;5;241m+\u001b[39m \u001b[38;5;124m\"\u001b[39m\u001b[38;5;124mmosaic.png\u001b[39m\u001b[38;5;124m\"\u001b[39m, outdir \u001b[38;5;241m+\u001b[39m \u001b[38;5;124m\"\u001b[39m\u001b[38;5;124mfisheye.png\u001b[39m\u001b[38;5;124m\"\u001b[39m, \u001b[38;5;28;01mFalse\u001b[39;00m)\n\u001b[1;32m    271\u001b[0m \u001b[38;5;28;01mreturn\u001b[39;00m \u001b[38;5;28mself\u001b[39m\u001b[38;5;241m.\u001b[39mequirectangular2fisheye(outdir \u001b[38;5;241m+\u001b[39m \u001b[38;5;124m\"\u001b[39m\u001b[38;5;124mmosaic_classified.png\u001b[39m\u001b[38;5;124m\"\u001b[39m, outdir \u001b[38;5;241m+\u001b[39m \u001b[38;5;124m\"\u001b[39m\u001b[38;5;124mfisheye_classified.png\u001b[39m\u001b[38;5;124m\"\u001b[39m, \u001b[38;5;28;01mTrue\u001b[39;00m)\n",
      "File \u001b[0;32m~/Dev/cmu_py499/proj_earn_gsv/SVFcore_mo.py:222\u001b[0m, in \u001b[0;36mGSVCapture.classify\u001b[0;34m(self, infile, outfile)\u001b[0m\n\u001b[1;32m    219\u001b[0m \u001b[38;5;28;01mdef\u001b[39;00m \u001b[38;5;21mclassify\u001b[39m(\u001b[38;5;28mself\u001b[39m, infile, outfile):\n\u001b[1;32m    220\u001b[0m     input_image \u001b[38;5;241m=\u001b[39m cv2\u001b[38;5;241m.\u001b[39mimread(infile)\n\u001b[1;32m    221\u001b[0m     input_image \u001b[38;5;241m=\u001b[39m cv2\u001b[38;5;241m.\u001b[39mresize(\n\u001b[0;32m--> 222\u001b[0m         input_image, (\u001b[38;5;28;43mself\u001b[39;49m\u001b[38;5;241;43m.\u001b[39;49m\u001b[43minput_shape\u001b[49m[\u001b[38;5;241m3\u001b[39m], \u001b[38;5;28mself\u001b[39m\u001b[38;5;241m.\u001b[39minput_shape[\u001b[38;5;241m2\u001b[39m]))\n\u001b[1;32m    223\u001b[0m     input_image \u001b[38;5;241m=\u001b[39m input_image\u001b[38;5;241m.\u001b[39mtranspose((\u001b[38;5;241m2\u001b[39m, \u001b[38;5;241m0\u001b[39m, \u001b[38;5;241m1\u001b[39m))\n\u001b[1;32m    224\u001b[0m     input_image \u001b[38;5;241m=\u001b[39m np\u001b[38;5;241m.\u001b[39masarray([input_image])\n",
      "\u001b[0;31mAttributeError\u001b[0m: 'GSVCapture' object has no attribute 'input_shape'"
     ]
    }
   ],
   "source": [
    "\n",
    "from SVFcore_mo import GSVCapture \n",
    "\n",
    "gsv = GSVCapture()\n",
    "\n",
    "gsv.getByLatLong(outdir='img', lat=18.797170700756716, lon=98.96122872758568)"
   ]
  },
  {
   "cell_type": "code",
   "execution_count": null,
   "metadata": {},
   "outputs": [],
   "source": [
    "# create class Car\n",
    "\n"
   ]
  }
 ],
 "metadata": {
  "kernelspec": {
   "display_name": "tf",
   "language": "python",
   "name": "python3"
  },
  "language_info": {
   "codemirror_mode": {
    "name": "ipython",
    "version": 3
   },
   "file_extension": ".py",
   "mimetype": "text/x-python",
   "name": "python",
   "nbconvert_exporter": "python",
   "pygments_lexer": "ipython3",
   "version": "3.11.0"
  }
 },
 "nbformat": 4,
 "nbformat_minor": 2
}
