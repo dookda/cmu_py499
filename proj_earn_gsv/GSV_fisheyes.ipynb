{
  "cells": [
    {
      "cell_type": "markdown",
      "metadata": {
        "colab_type": "text",
        "id": "view-in-github"
      },
      "source": [
        "<a href=\"https://colab.research.google.com/github/dookda/cmu_py499/blob/main/GSV_fisheyes.ipynb\" target=\"_parent\"><img src=\"https://colab.research.google.com/assets/colab-badge.svg\" alt=\"Open In Colab\"/></a>"
      ]
    },
    {
      "cell_type": "markdown",
      "metadata": {
        "id": "ISxN0Ju_ojTJ"
      },
      "source": [
        "***GSV download***\n",
        "\n",
        "ดาวโหลด google street view"
      ]
    },
    {
      "cell_type": "code",
      "execution_count": null,
      "metadata": {
        "id": "G34w9NCxoilJ"
      },
      "outputs": [],
      "source": [
        "import requests\n",
        "\n",
        "# Base URL for the Google Street View API\n",
        "BASE_URL = 'https://maps.googleapis.com/maps/api/streetview'\n",
        "\n",
        "# Your API key\n",
        "API_KEY = 'your_api_key_here'\n",
        "\n",
        "# Google Street View parameters\n",
        "params = {\n",
        "    'size': '2048x2048',\n",
        "    'location': '50.450717,30.523825',\n",
        "    'heading': '0',\n",
        "    'fov': '180',\n",
        "    'pitch': '0',\n",
        "    'key': API_KEY\n",
        "}\n",
        "\n",
        "# Make the request to Google Street View API\n",
        "response = requests.get(BASE_URL, params=params)\n",
        "\n",
        "# Check if the response was successful\n",
        "if response.status_code == 200:\n",
        "    # Write the image to a file\n",
        "    with open('street_view_image.jpg', 'wb') as file:\n",
        "        file.write(response.content)\n",
        "    print(\"Image downloaded successfully!\")\n",
        "else:\n",
        "    print(f\"Failed to download image: {response.status_code}\")\n"
      ]
    }
  ],
  "metadata": {
    "colab": {
      "authorship_tag": "ABX9TyOWW3O0LYEZ4PZeFW1j65wr",
      "include_colab_link": true,
      "provenance": []
    },
    "kernelspec": {
      "display_name": "Python 3",
      "name": "python3"
    },
    "language_info": {
      "name": "python"
    }
  },
  "nbformat": 4,
  "nbformat_minor": 0
}
