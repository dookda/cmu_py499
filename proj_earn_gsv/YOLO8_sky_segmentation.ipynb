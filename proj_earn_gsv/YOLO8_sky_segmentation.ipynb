{
  "cells": [
    {
      "cell_type": "markdown",
      "metadata": {
        "colab_type": "text",
        "id": "view-in-github"
      },
      "source": [
        "<a href=\"https://colab.research.google.com/github/dookda/cmu_deep_learning/blob/main/YOLO8_sky_segmentation.ipynb\" target=\"_parent\"><img src=\"https://colab.research.google.com/assets/colab-badge.svg\" alt=\"Open In Colab\"/></a>"
      ]
    },
    {
      "cell_type": "code",
      "execution_count": null,
      "metadata": {
        "colab": {
          "base_uri": "https://localhost:8080/"
        },
        "id": "XIkq1JdHkzwM",
        "outputId": "0d76707a-0193-4a11-9763-b23f67e0fa70"
      },
      "outputs": [],
      "source": [
        "!nvidia-smi"
      ]
    },
    {
      "cell_type": "code",
      "execution_count": null,
      "metadata": {
        "colab": {
          "base_uri": "https://localhost:8080/"
        },
        "id": "guz3mBrYk2HY",
        "outputId": "fef7497b-e117-4d90-d6f8-065d7950b7ad"
      },
      "outputs": [],
      "source": [
        "import os\n",
        "HOME = os.getcwd()\n",
        "print(HOME)"
      ]
    },
    {
      "cell_type": "code",
      "execution_count": null,
      "metadata": {
        "colab": {
          "base_uri": "https://localhost:8080/"
        },
        "id": "LwPDXtSAk9Mp",
        "outputId": "713196a3-d54c-4f9e-a76a-9d940dd98280"
      },
      "outputs": [],
      "source": [
        "from google.colab import drive\n",
        "drive.mount('/content/drive/')"
      ]
    },
    {
      "cell_type": "code",
      "execution_count": 3,
      "metadata": {
        "id": "wEi9-MK0mOEs"
      },
      "outputs": [],
      "source": [
        "!mkdir sky_detect"
      ]
    },
    {
      "cell_type": "code",
      "execution_count": null,
      "metadata": {
        "colab": {
          "base_uri": "https://localhost:8080/"
        },
        "id": "gX-TILGbetFA",
        "outputId": "5944e96f-a500-40bb-a6b4-9ac9675ac418"
      },
      "outputs": [],
      "source": [
        "!unzip /content/drive/MyDrive/_DATASET/sky.v6i.yolov8.zip -d /content/sky_detect"
      ]
    },
    {
      "cell_type": "code",
      "execution_count": 5,
      "metadata": {
        "id": "X8hMgNpn1Xnm"
      },
      "outputs": [],
      "source": [
        "!rm -r sky_detect/sky.v6i.yolov8/\n",
        "!rm -r sky_detect/__MACOSX/"
      ]
    },
    {
      "cell_type": "markdown",
      "metadata": {},
      "source": [
        "install labelme\n",
        "\n",
        "`pip install labelme"
      ]
    },
    {
      "cell_type": "code",
      "execution_count": null,
      "metadata": {
        "colab": {
          "base_uri": "https://localhost:8080/"
        },
        "id": "xvc6raZ9lPla",
        "outputId": "68ca82ed-c70b-4caf-b3c6-d8705e9bee18"
      },
      "outputs": [],
      "source": [
        "!pip install ultralytics"
      ]
    },
    {
      "cell_type": "markdown",
      "metadata": {},
      "source": [
        "`pip install pandas ultralytics numpy matplotlib seaborn pytest-warnings PyYAML random Pillow opencv-python`"
      ]
    },
    {
      "cell_type": "code",
      "execution_count": 6,
      "metadata": {
        "id": "JR14VtdsnqlP"
      },
      "outputs": [],
      "source": [
        "import pandas as pd\n",
        "import numpy as np\n",
        "import matplotlib.pyplot as plt\n",
        "import seaborn as sns\n",
        "import os\n",
        "import warnings\n",
        "\n",
        "from ultralytics import YOLO\n",
        "import cv2\n",
        "from PIL import Image\n",
        "import yaml\n",
        "import random"
      ]
    },
    {
      "cell_type": "code",
      "execution_count": 7,
      "metadata": {
        "id": "_jBrpb3qoWmH"
      },
      "outputs": [],
      "source": [
        "sns.set(rc={'axes.facecolor': '#ffe4de'}, style='darkgrid')"
      ]
    },
    {
      "cell_type": "code",
      "execution_count": 9,
      "metadata": {
        "id": "udVQY5k2oswM"
      },
      "outputs": [],
      "source": [
        "dataDir = '/content/sky_detect/'"
      ]
    },
    {
      "cell_type": "code",
      "execution_count": null,
      "metadata": {},
      "outputs": [],
      "source": [
        "dataDir = os.path.join(os.getcwd(), 'sky.v6i.yolov8')\n",
        "print(dataDir)"
      ]
    },
    {
      "cell_type": "code",
      "execution_count": null,
      "metadata": {
        "colab": {
          "base_uri": "https://localhost:8080/",
          "height": 878
        },
        "id": "NV4bcaK7o_T7",
        "outputId": "7c13edb8-8abd-45cf-ac33-37a18f036286"
      },
      "outputs": [],
      "source": [
        "trainImagePath = os.path.join(dataDir, 'train', 'images')\n",
        "\n",
        "imageFiles = [f for f in os.listdir(trainImagePath) if f.endswith('.jpg')]\n",
        "\n",
        "randomImages = random.sample(imageFiles, 15)\n",
        "\n",
        "plt.figure(figsize=(10,10))\n",
        "\n",
        "for i, image_file in enumerate(randomImages):\n",
        "  image_path = os.path.join(trainImagePath, image_file)\n",
        "  image = Image.open(image_path)\n",
        "  plt.subplot(3, 5, i + 1)\n",
        "  plt.imshow(image)\n",
        "  plt.axis('off')\n",
        "\n",
        "plt.suptitle('Random selection of Dataset Images', fontsize=24)"
      ]
    },
    {
      "cell_type": "code",
      "execution_count": 20,
      "metadata": {
        "colab": {
          "base_uri": "https://localhost:8080/"
        },
        "id": "564OIEqeyW4-",
        "outputId": "3d9ac970-c3d3-479c-d717-cddfe2c907ae"
      },
      "outputs": [],
      "source": [
        "model = YOLO('yolov8n-seg.pt')"
      ]
    },
    {
      "cell_type": "code",
      "execution_count": null,
      "metadata": {
        "id": "iHjvHQYMyu9I"
      },
      "outputs": [],
      "source": [
        "yamlFilePath = os.path.join(dataDir, 'data.yaml')\n",
        "print(yamlFilePath)"
      ]
    },
    {
      "cell_type": "code",
      "execution_count": null,
      "metadata": {
        "colab": {
          "base_uri": "https://localhost:8080/"
        },
        "id": "X9jQEuwl2LIf",
        "outputId": "3b0a6fa2-4bd3-4247-d0c7-677197294181"
      },
      "outputs": [],
      "source": [
        "results = model.train(\n",
        "    data=yamlFilePath,\n",
        "    epochs=10,\n",
        "    imgsz=640,\n",
        "    batch=32,\n",
        "    optimizer='auto',\n",
        "    lr0=0.0001,\n",
        "    lrf=0.01,\n",
        "    dropout=0.25,\n",
        "    device='cpu',\n",
        "    # device=0,\n",
        "    seed=42\n",
        ")"
      ]
    },
    {
      "cell_type": "code",
      "execution_count": 15,
      "metadata": {
        "id": "HuOoBEBP5832"
      },
      "outputs": [],
      "source": [
        "bestModelPath = '/content/runs/segment/train/weights/best.pt'\n",
        "bestModel = YOLO(bestModelPath)"
      ]
    },
    {
      "cell_type": "code",
      "execution_count": null,
      "metadata": {
        "colab": {
          "base_uri": "https://localhost:8080/",
          "height": 1000
        },
        "id": "vNnrpgJa6KPr",
        "outputId": "be082fa1-9b76-4b1c-d4c8-e49121fb522d"
      },
      "outputs": [],
      "source": [
        "validImagePath = os.path.join(dataDir, 'valid', 'images')\n",
        "\n",
        "imageFiles = [f for f in os.listdir(validImagePath) if f.endswith('.jpg')]\n",
        "\n",
        "numImages = len(imageFiles)\n",
        "selectedImage = [imageFiles[i] for i in range(0, numImages, numImages // 9)]\n",
        "\n",
        "fig, axes = plt.subplots(3, 3, figsize=(10, 10))\n",
        "fig.suptitle('Validation Set')\n",
        "\n",
        "for i, ax in enumerate(axes.flatten()):\n",
        "  imagePath = os.path.join(validImagePath, selectedImage[i])\n",
        "  results = bestModel.predict(source=imagePath, imgsz=640)\n",
        "  annotatedImage = results[0].plot()\n",
        "  annotatedImageRGB = cv2.cvtColor(annotatedImage, cv2.COLOR_BGR2RGB)\n",
        "  ax.imshow(annotatedImageRGB)\n",
        "  ax.axis('off')\n",
        "\n",
        "plt.tight_layout()\n",
        "plt.show()"
      ]
    }
  ],
  "metadata": {
    "accelerator": "GPU",
    "colab": {
      "authorship_tag": "ABX9TyPFz8yrd7mVonCqhx+b5jFN",
      "gpuType": "A100",
      "include_colab_link": true,
      "provenance": []
    },
    "kernelspec": {
      "display_name": "Python 3",
      "name": "python3"
    },
    "language_info": {
      "codemirror_mode": {
        "name": "ipython",
        "version": 3
      },
      "file_extension": ".py",
      "mimetype": "text/x-python",
      "name": "python",
      "nbconvert_exporter": "python",
      "pygments_lexer": "ipython3",
      "version": "3.12.3"
    }
  },
  "nbformat": 4,
  "nbformat_minor": 0
}
