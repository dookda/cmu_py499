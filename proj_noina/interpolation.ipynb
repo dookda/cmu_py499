{
 "cells": [
  {
   "cell_type": "code",
   "execution_count": null,
   "metadata": {},
   "outputs": [],
   "source": [
    "!pip install numpy scipy matplotlib geopandas\n",
    "!pip install psycopg2-binary pandas"
   ]
  },
  {
   "cell_type": "code",
   "execution_count": null,
   "metadata": {},
   "outputs": [],
   "source": [
    "import pandas as pd\n",
    "import numpy as np\n",
    "from scipy.interpolate import griddata\n",
    "import matplotlib.pyplot as plt\n",
    "import psycopg2\n",
    "\n",
    "# Database connection parameters\n",
    "dbname = 'your_database'\n",
    "user = 'your_username'\n",
    "password = 'your_password'\n",
    "host = 'your_host'\n",
    "port = 'your_port'\n",
    "\n",
    "# Connect to PostgreSQL database\n",
    "conn = psycopg2.connect(dbname=dbname, user=user, password=password, host=host, port=port)\n",
    "\n",
    "# Query to fetch data\n",
    "query = \"\"\"\n",
    "SELECT latitude, longitude, sound_level\n",
    "FROM your_table_name\n",
    "\"\"\"\n",
    "\n",
    "# Load data into a pandas DataFrame\n",
    "data = pd.read_sql_query(query, conn)\n",
    "\n",
    "# Close the connection\n",
    "conn.close()\n",
    "\n",
    "# Extract coordinates and sound levels\n",
    "points = data[['latitude', 'longitude']].values\n",
    "values = data['sound_level'].values\n",
    "\n",
    "# Define grid for interpolation\n",
    "grid_lat, grid_lon = np.mgrid[data['latitude'].min():data['latitude'].max():100j,\n",
    "                              data['longitude'].min():data['longitude'].max():100j]\n",
    "\n",
    "# Perform interpolation\n",
    "grid_sound = griddata(points, values, (grid_lat, grid_lon), method='cubic')\n",
    "\n",
    "# Create Isolines\n",
    "plt.figure(figsize=(10, 8))\n",
    "plt.contourf(grid_lon, grid_lat, grid_sound, levels=15, cmap='jet')\n",
    "plt.colorbar(label='Sound Level (dB)')\n",
    "plt.scatter(data['longitude'], data['latitude'], c='black', marker='o', s=5)  # Original data points\n",
    "plt.title('Sound Level Interpolation and Isolines')\n",
    "plt.xlabel('Longitude')\n",
    "plt.ylabel('Latitude')\n",
    "plt.show()\n"
   ]
  }
 ],
 "metadata": {
  "kernelspec": {
   "display_name": "nsound",
   "language": "python",
   "name": "python3"
  },
  "language_info": {
   "codemirror_mode": {
    "name": "ipython",
    "version": 3
   },
   "file_extension": ".py",
   "mimetype": "text/x-python",
   "name": "python",
   "nbconvert_exporter": "python",
   "pygments_lexer": "ipython3",
   "version": "3.12.4"
  }
 },
 "nbformat": 4,
 "nbformat_minor": 2
}
