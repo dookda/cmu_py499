{
 "cells": [
  {
   "cell_type": "code",
   "execution_count": null,
   "metadata": {},
   "outputs": [],
   "source": [
    "!pip install numpy scipy matplotlib geopandas\n",
    "!pip install psycopg2-binary pandas"
   ]
  },
  {
   "cell_type": "code",
   "execution_count": 2,
   "metadata": {},
   "outputs": [
    {
     "ename": "ModuleNotFoundError",
     "evalue": "No module named 'scipy'",
     "output_type": "error",
     "traceback": [
      "\u001b[0;31m---------------------------------------------------------------------------\u001b[0m",
      "\u001b[0;31mModuleNotFoundError\u001b[0m                       Traceback (most recent call last)",
      "Cell \u001b[0;32mIn[2], line 3\u001b[0m\n\u001b[1;32m      1\u001b[0m \u001b[38;5;28;01mimport\u001b[39;00m \u001b[38;5;21;01mpandas\u001b[39;00m \u001b[38;5;28;01mas\u001b[39;00m \u001b[38;5;21;01mpd\u001b[39;00m\n\u001b[1;32m      2\u001b[0m \u001b[38;5;28;01mimport\u001b[39;00m \u001b[38;5;21;01mnumpy\u001b[39;00m \u001b[38;5;28;01mas\u001b[39;00m \u001b[38;5;21;01mnp\u001b[39;00m\n\u001b[0;32m----> 3\u001b[0m \u001b[38;5;28;01mfrom\u001b[39;00m \u001b[38;5;21;01mscipy\u001b[39;00m\u001b[38;5;21;01m.\u001b[39;00m\u001b[38;5;21;01minterpolate\u001b[39;00m \u001b[38;5;28;01mimport\u001b[39;00m griddata\n\u001b[1;32m      4\u001b[0m \u001b[38;5;28;01mimport\u001b[39;00m \u001b[38;5;21;01mmatplotlib\u001b[39;00m\u001b[38;5;21;01m.\u001b[39;00m\u001b[38;5;21;01mpyplot\u001b[39;00m \u001b[38;5;28;01mas\u001b[39;00m \u001b[38;5;21;01mplt\u001b[39;00m\n\u001b[1;32m      5\u001b[0m \u001b[38;5;28;01mimport\u001b[39;00m \u001b[38;5;21;01mpsycopg2\u001b[39;00m\n",
      "\u001b[0;31mModuleNotFoundError\u001b[0m: No module named 'scipy'"
     ]
    }
   ],
   "source": [
    "import pandas as pd\n",
    "import numpy as np\n",
    "from scipy.interpolate import griddata\n",
    "import matplotlib.pyplot as plt\n",
    "import psycopg2\n",
    "\n",
    "# Database connection parameters\n",
    "dbname = 'geodb'\n",
    "user = 'postgres'\n",
    "password = '1234'\n",
    "host = '47.129.50.123'\n",
    "port = '5434'\n",
    "\n",
    "# Connect to PostgreSQL database\n",
    "conn = psycopg2.connect(dbname=dbname, user=user, password=password, host=host, port=port)\n",
    "\n",
    "# Query to fetch data\n",
    "query = \"\"\"\n",
    "SELECT latitude, longitude, sound_level\n",
    "FROM your_table_name\n",
    "\"\"\"\n",
    "\n",
    "# Load data into a pandas DataFrame\n",
    "data = pd.read_sql_query(query, conn)\n",
    "\n",
    "# Close the connection\n",
    "conn.close()\n",
    "\n",
    "# Extract coordinates and sound levels\n",
    "points = data[['latitude', 'longitude']].values\n",
    "values = data['sound_level'].values\n",
    "\n",
    "# Define grid for interpolation\n",
    "grid_lat, grid_lon = np.mgrid[data['latitude'].min():data['latitude'].max():100j,\n",
    "                              data['longitude'].min():data['longitude'].max():100j]\n",
    "\n",
    "# Perform interpolation\n",
    "grid_sound = griddata(points, values, (grid_lat, grid_lon), method='cubic')\n",
    "\n",
    "# Create Isolines\n",
    "plt.figure(figsize=(10, 8))\n",
    "plt.contourf(grid_lon, grid_lat, grid_sound, levels=15, cmap='jet')\n",
    "plt.colorbar(label='Sound Level (dB)')\n",
    "plt.scatter(data['longitude'], data['latitude'], c='black', marker='o', s=5)  # Original data points\n",
    "plt.title('Sound Level Interpolation and Isolines')\n",
    "plt.xlabel('Longitude')\n",
    "plt.ylabel('Latitude')\n",
    "plt.show()\n"
   ]
  }
 ],
 "metadata": {
  "kernelspec": {
   "display_name": "nsound",
   "language": "python",
   "name": "python3"
  },
  "language_info": {
   "codemirror_mode": {
    "name": "ipython",
    "version": 3
   },
   "file_extension": ".py",
   "mimetype": "text/x-python",
   "name": "python",
   "nbconvert_exporter": "python",
   "pygments_lexer": "ipython3",
   "version": "3.12.4"
  }
 },
 "nbformat": 4,
 "nbformat_minor": 2
}
