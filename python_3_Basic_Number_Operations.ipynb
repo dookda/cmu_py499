{
  "nbformat": 4,
  "nbformat_minor": 0,
  "metadata": {
    "colab": {
      "provenance": [],
      "authorship_tag": "ABX9TyOF55MyDGxEIRYufaTj+xIg",
      "include_colab_link": true
    },
    "kernelspec": {
      "name": "python3",
      "display_name": "Python 3"
    },
    "language_info": {
      "name": "python"
    }
  },
  "cells": [
    {
      "cell_type": "markdown",
      "metadata": {
        "id": "view-in-github",
        "colab_type": "text"
      },
      "source": [
        "<a href=\"https://colab.research.google.com/github/dookda/py499/blob/main/python_3_Basic_Number_Operations.ipynb\" target=\"_parent\"><img src=\"https://colab.research.google.com/assets/colab-badge.svg\" alt=\"Open In Colab\"/></a>"
      ]
    },
    {
      "cell_type": "markdown",
      "source": [
        "**Basic Number Operations**"
      ],
      "metadata": {
        "id": "bnEgQbeUdUXI"
      }
    },
    {
      "cell_type": "markdown",
      "source": [
        "Arithmetic Operators"
      ],
      "metadata": {
        "id": "fcUCmwnnds3m"
      }
    },
    {
      "cell_type": "code",
      "execution_count": null,
      "metadata": {
        "id": "_xRUcmW7c6Os"
      },
      "outputs": [],
      "source": [
        "x = 10\n",
        "y = 3\n",
        "print(x + y)   # Output: 13\n",
        "print(x - y)   # Output: 7\n",
        "print(x * y)   # Output: 30\n",
        "print(x / y)   # Output: 3.3333333333333335\n",
        "print(x // y)  # Output: 3\n",
        "print(x % y)   # Output: 1\n",
        "print(x ** y)  # Output: 1000\n"
      ]
    },
    {
      "cell_type": "markdown",
      "source": [
        "Built-in Functions"
      ],
      "metadata": {
        "id": "Ub98oVBddoH_"
      }
    },
    {
      "cell_type": "code",
      "source": [
        "print(abs(-7.25))"
      ],
      "metadata": {
        "id": "VdXue5SbdlPT"
      },
      "execution_count": null,
      "outputs": []
    },
    {
      "cell_type": "code",
      "source": [
        "print(round(3.75, 1))"
      ],
      "metadata": {
        "id": "e9d2mBUMdxT1"
      },
      "execution_count": null,
      "outputs": []
    },
    {
      "cell_type": "code",
      "source": [
        "print(min(1, 2, 3, -4))"
      ],
      "metadata": {
        "id": "SBgFKSTBd0VG"
      },
      "execution_count": null,
      "outputs": []
    },
    {
      "cell_type": "code",
      "source": [
        "print(max(1, 2, 3, -4))"
      ],
      "metadata": {
        "id": "073JzpgFd16q"
      },
      "execution_count": null,
      "outputs": []
    },
    {
      "cell_type": "code",
      "source": [
        "print(sum([1, 2, 3, 4]))"
      ],
      "metadata": {
        "id": "ltr1UkEgd3-8"
      },
      "execution_count": null,
      "outputs": []
    }
  ]
}