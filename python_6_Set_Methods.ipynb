{
  "nbformat": 4,
  "nbformat_minor": 0,
  "metadata": {
    "colab": {
      "provenance": [],
      "authorship_tag": "ABX9TyOVO3b06eyyRvuaYCx5vQQg",
      "include_colab_link": true
    },
    "kernelspec": {
      "name": "python3",
      "display_name": "Python 3"
    },
    "language_info": {
      "name": "python"
    }
  },
  "cells": [
    {
      "cell_type": "markdown",
      "metadata": {
        "id": "view-in-github",
        "colab_type": "text"
      },
      "source": [
        "<a href=\"https://colab.research.google.com/github/dookda/py499/blob/main/python_6_Set_Methods.ipynb\" target=\"_parent\"><img src=\"https://colab.research.google.com/assets/colab-badge.svg\" alt=\"Open In Colab\"/></a>"
      ]
    },
    {
      "cell_type": "markdown",
      "source": [
        "Set Methods"
      ],
      "metadata": {
        "id": "mDEpAmVAjCZy"
      }
    },
    {
      "cell_type": "code",
      "execution_count": null,
      "metadata": {
        "id": "pgTVBYzni8Io"
      },
      "outputs": [],
      "source": [
        "# add()\n",
        "my_set = {1, 2, 3}\n",
        "my_set.add(4)\n",
        "print(my_set)"
      ]
    },
    {
      "cell_type": "code",
      "source": [
        "# update()\n",
        "my_set.update([4, 5], {6, 7})\n",
        "print(my_set)"
      ],
      "metadata": {
        "id": "teNqLaDYjJbl"
      },
      "execution_count": null,
      "outputs": []
    },
    {
      "cell_type": "code",
      "source": [
        "# remove()\n",
        "my_set.remove(1)\n",
        "print(my_set)"
      ],
      "metadata": {
        "id": "SQH8f38sjNbr"
      },
      "execution_count": null,
      "outputs": []
    },
    {
      "cell_type": "code",
      "source": [
        "# discard()\n",
        "my_set.discard(8)\n",
        "print(my_set)"
      ],
      "metadata": {
        "id": "KyL7hM6VjV-Z"
      },
      "execution_count": null,
      "outputs": []
    },
    {
      "cell_type": "code",
      "source": [
        "# pop()\n",
        "print(my_set.pop())"
      ],
      "metadata": {
        "id": "VfBskFVrjnwO"
      },
      "execution_count": null,
      "outputs": []
    },
    {
      "cell_type": "code",
      "source": [
        "# clear()\n",
        "my_set.clear()\n",
        "print(my_set)"
      ],
      "metadata": {
        "id": "L9SYzFdJj1T5"
      },
      "execution_count": null,
      "outputs": []
    },
    {
      "cell_type": "code",
      "source": [
        "# union()\n",
        "a = {1, 2, 3}\n",
        "b = {3, 4, 5}\n",
        "print(a.union(b))"
      ],
      "metadata": {
        "id": "adfQo_f1j5v1"
      },
      "execution_count": null,
      "outputs": []
    },
    {
      "cell_type": "code",
      "source": [
        "# intersection()\n",
        "print(a.intersection(b))"
      ],
      "metadata": {
        "id": "r4_m0W_-j_78"
      },
      "execution_count": null,
      "outputs": []
    },
    {
      "cell_type": "code",
      "source": [
        "# difference()\n",
        "print(a.difference(b))"
      ],
      "metadata": {
        "id": "Z8AgMZq9kE9_"
      },
      "execution_count": null,
      "outputs": []
    },
    {
      "cell_type": "code",
      "source": [
        "# symmetric_difference()\n",
        "print(a.symmetric_difference(b))"
      ],
      "metadata": {
        "id": "2DNiyCSMkHrZ"
      },
      "execution_count": null,
      "outputs": []
    },
    {
      "cell_type": "code",
      "source": [
        "# issubset()\n",
        "c = {1, 2}\n",
        "print(c.issubset(a))"
      ],
      "metadata": {
        "id": "nNuWOv6rkMYc"
      },
      "execution_count": null,
      "outputs": []
    },
    {
      "cell_type": "code",
      "source": [
        "# issuperset()\n",
        "print(a.issuperset(c))"
      ],
      "metadata": {
        "id": "VaMLqcHHkVXJ"
      },
      "execution_count": null,
      "outputs": []
    },
    {
      "cell_type": "code",
      "source": [
        "# isdisjoint()\n",
        "d = {7, 8}\n",
        "print(a.isdisjoint(d))"
      ],
      "metadata": {
        "id": "8dbkJU8Rkb1x"
      },
      "execution_count": null,
      "outputs": []
    }
  ]
}