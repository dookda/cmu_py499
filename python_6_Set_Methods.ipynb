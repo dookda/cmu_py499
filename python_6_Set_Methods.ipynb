{
  "cells": [
    {
      "cell_type": "markdown",
      "metadata": {
        "colab_type": "text",
        "id": "view-in-github"
      },
      "source": [
        "<a href=\"https://colab.research.google.com/github/dookda/py499/blob/main/python_6_Set_Methods.ipynb\" target=\"_parent\"><img src=\"https://colab.research.google.com/assets/colab-badge.svg\" alt=\"Open In Colab\"/></a>"
      ]
    },
    {
      "cell_type": "markdown",
      "metadata": {
        "id": "mDEpAmVAjCZy"
      },
      "source": [
        "Methods สำหรับข้อมูล Set "
      ]
    },
    {
      "cell_type": "code",
      "execution_count": null,
      "metadata": {
        "id": "pgTVBYzni8Io"
      },
      "outputs": [],
      "source": [
        "# add()\n",
        "my_set = {1, 2, 3}\n",
        "my_set.add(4)\n",
        "print(my_set)"
      ]
    },
    {
      "cell_type": "code",
      "execution_count": null,
      "metadata": {
        "id": "teNqLaDYjJbl"
      },
      "outputs": [],
      "source": [
        "# update()\n",
        "my_set.update([4, 5], {6, 7})\n",
        "print(my_set)"
      ]
    },
    {
      "cell_type": "code",
      "execution_count": null,
      "metadata": {
        "id": "SQH8f38sjNbr"
      },
      "outputs": [],
      "source": [
        "# remove()\n",
        "my_set.remove(1)\n",
        "print(my_set)"
      ]
    },
    {
      "cell_type": "code",
      "execution_count": null,
      "metadata": {
        "id": "KyL7hM6VjV-Z"
      },
      "outputs": [],
      "source": [
        "# discard()\n",
        "my_set.discard(8)\n",
        "print(my_set)"
      ]
    },
    {
      "cell_type": "code",
      "execution_count": null,
      "metadata": {
        "id": "VfBskFVrjnwO"
      },
      "outputs": [],
      "source": [
        "# pop()\n",
        "print(my_set.pop())"
      ]
    },
    {
      "cell_type": "code",
      "execution_count": null,
      "metadata": {
        "id": "L9SYzFdJj1T5"
      },
      "outputs": [],
      "source": [
        "# clear()\n",
        "my_set.clear()\n",
        "print(my_set)"
      ]
    },
    {
      "cell_type": "code",
      "execution_count": null,
      "metadata": {
        "id": "adfQo_f1j5v1"
      },
      "outputs": [],
      "source": [
        "# union()\n",
        "a = {1, 2, 3}\n",
        "b = {3, 4, 5}\n",
        "print(a.union(b))"
      ]
    },
    {
      "cell_type": "code",
      "execution_count": null,
      "metadata": {
        "id": "r4_m0W_-j_78"
      },
      "outputs": [],
      "source": [
        "# intersection()\n",
        "print(a.intersection(b))"
      ]
    },
    {
      "cell_type": "code",
      "execution_count": null,
      "metadata": {
        "id": "Z8AgMZq9kE9_"
      },
      "outputs": [],
      "source": [
        "# difference()\n",
        "print(a.difference(b))"
      ]
    },
    {
      "cell_type": "code",
      "execution_count": null,
      "metadata": {
        "id": "2DNiyCSMkHrZ"
      },
      "outputs": [],
      "source": [
        "# symmetric_difference()\n",
        "print(a.symmetric_difference(b))"
      ]
    },
    {
      "cell_type": "code",
      "execution_count": null,
      "metadata": {
        "id": "nNuWOv6rkMYc"
      },
      "outputs": [],
      "source": [
        "# issubset()\n",
        "c = {1, 2}\n",
        "print(c.issubset(a))"
      ]
    },
    {
      "cell_type": "code",
      "execution_count": null,
      "metadata": {
        "id": "VaMLqcHHkVXJ"
      },
      "outputs": [],
      "source": [
        "# issuperset()\n",
        "print(a.issuperset(c))"
      ]
    },
    {
      "cell_type": "code",
      "execution_count": null,
      "metadata": {
        "id": "8dbkJU8Rkb1x"
      },
      "outputs": [],
      "source": [
        "# isdisjoint()\n",
        "d = {7, 8}\n",
        "print(a.isdisjoint(d))"
      ]
    }
  ],
  "metadata": {
    "colab": {
      "authorship_tag": "ABX9TyOVO3b06eyyRvuaYCx5vQQg",
      "include_colab_link": true,
      "provenance": []
    },
    "kernelspec": {
      "display_name": "Python 3",
      "name": "python3"
    },
    "language_info": {
      "name": "python"
    }
  },
  "nbformat": 4,
  "nbformat_minor": 0
}
