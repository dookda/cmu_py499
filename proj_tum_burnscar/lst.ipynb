{
 "cells": [
  {
   "cell_type": "code",
   "execution_count": 2,
   "metadata": {},
   "outputs": [],
   "source": [
    "import ee\n",
    "import datetime\n",
    "\n",
    "# Initialize the Earth Engine library\n",
    "ee.Initialize()\n",
    "\n",
    "polygon = ee.FeatureCollection(\"users/sakdahomhuan/udfire_site\");\n",
    "geometry = polygon.geometry().bounds()\n",
    "\n",
    "# Function to reproject and clip the image\n",
    "def prepare_data(image):\n",
    "    return image.reproject(crs='EPSG:3857', scale=500).clip(geometry)\n",
    "\n",
    "# Function to convert Kelvin to Celsius\n",
    "def kelvin_to_celsius(image):\n",
    "    return image.multiply(0.02).subtract(273.15).set('system:time_start', image.get('system:time_start'))\n",
    "\n",
    "# Function to load and process the LST data\n",
    "def load_data(date_range):\n",
    "    lst_collection = ee.ImageCollection('MODIS/061/MOD11A2') \\\n",
    "        .filterDate(date_range[0], date_range[1]) \\\n",
    "        .select('LST_Day_1km') \\\n",
    "        .map(prepare_data) \\\n",
    "        .map(kelvin_to_celsius)\n",
    "        \n",
    "    mean_lst_celsius = lst_collection.mean()\n",
    "    return mean_lst_celsius\n",
    "\n",
    "\n"
   ]
  },
  {
   "cell_type": "code",
   "execution_count": 4,
   "metadata": {},
   "outputs": [
    {
     "name": "stdout",
     "output_type": "stream",
     "text": [
      "Exporting Mean_LST_Celsius_2021 to Google Drive folder _GEE\n"
     ]
    },
    {
     "ename": "NameError",
     "evalue": "name 'task' is not defined",
     "output_type": "error",
     "traceback": [
      "\u001b[0;31m---------------------------------------------------------------------------\u001b[0m",
      "\u001b[0;31mNameError\u001b[0m                                 Traceback (most recent call last)",
      "Cell \u001b[0;32mIn[4], line 26\u001b[0m\n\u001b[1;32m     23\u001b[0m export_image_to_drive(mean_lst_celsius, \u001b[38;5;124m'\u001b[39m\u001b[38;5;124mMean_LST_Celsius_2021\u001b[39m\u001b[38;5;124m'\u001b[39m, \u001b[38;5;124m'\u001b[39m\u001b[38;5;124m_GEE\u001b[39m\u001b[38;5;124m'\u001b[39m, \u001b[38;5;241m500\u001b[39m, geometry)\n\u001b[1;32m     25\u001b[0m \u001b[38;5;66;03m# Additional code to check the status of the export task\u001b[39;00m\n\u001b[0;32m---> 26\u001b[0m task_id \u001b[38;5;241m=\u001b[39m \u001b[43mtask\u001b[49m\u001b[38;5;241m.\u001b[39mid\n\u001b[1;32m     27\u001b[0m \u001b[38;5;28;01mwhile\u001b[39;00m task\u001b[38;5;241m.\u001b[39mactive():\n\u001b[1;32m     28\u001b[0m     \u001b[38;5;28mprint\u001b[39m(\u001b[38;5;124mf\u001b[39m\u001b[38;5;124m'\u001b[39m\u001b[38;5;124mTask \u001b[39m\u001b[38;5;132;01m{\u001b[39;00mtask_id\u001b[38;5;132;01m}\u001b[39;00m\u001b[38;5;124m is \u001b[39m\u001b[38;5;132;01m{\u001b[39;00mtask\u001b[38;5;241m.\u001b[39mstatus()[\u001b[38;5;124m\"\u001b[39m\u001b[38;5;124mstate\u001b[39m\u001b[38;5;124m\"\u001b[39m]\u001b[38;5;132;01m}\u001b[39;00m\u001b[38;5;124m'\u001b[39m)\n",
      "\u001b[0;31mNameError\u001b[0m: name 'task' is not defined"
     ]
    }
   ],
   "source": [
    "# Define the date range for the analysis\n",
    "start_date = '2021-01-01'\n",
    "end_date = '2021-05-30'\n",
    "date_range = (start_date, end_date)\n",
    "\n",
    "# Load the data\n",
    "mean_lst_celsius = load_data(date_range)\n",
    "\n",
    "# Function to export the image to Google Drive\n",
    "def export_image_to_drive(image, description, folder, scale, region):\n",
    "    task = ee.batch.Export.image.toDrive(\n",
    "        image=image,\n",
    "        description=description,\n",
    "        folder=folder,\n",
    "        scale=scale,\n",
    "        region=region,\n",
    "        crs='EPSG:3857'\n",
    "    )\n",
    "    task.start()\n",
    "    \n",
    "\n",
    "# Export the mean LST image to Google Drive\n",
    "export_image_to_drive(mean_lst_celsius, 'Mean_LST_Celsius_2021', '_GEE', 500, geometry)\n",
    "print(f'Exporting to Google Drive successfully')\n"
   ]
  }
 ],
 "metadata": {
  "kernelspec": {
   "display_name": "gee",
   "language": "python",
   "name": "python3"
  },
  "language_info": {
   "codemirror_mode": {
    "name": "ipython",
    "version": 3
   },
   "file_extension": ".py",
   "mimetype": "text/x-python",
   "name": "python",
   "nbconvert_exporter": "python",
   "pygments_lexer": "ipython3",
   "version": "3.12.1"
  }
 },
 "nbformat": 4,
 "nbformat_minor": 2
}
