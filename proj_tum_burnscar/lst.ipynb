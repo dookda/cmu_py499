{
 "cells": [
  {
   "cell_type": "code",
   "execution_count": 2,
   "metadata": {},
   "outputs": [],
   "source": [
    "import ee\n",
    "import datetime\n",
    "\n",
    "# Initialize the Earth Engine library\n",
    "ee.Initialize()\n",
    "\n",
    "polygon = ee.FeatureCollection(\"users/sakdahomhuan/udfire_site\");\n",
    "geometry = polygon.geometry().bounds()\n",
    "\n",
    "# Function to reproject and clip the image\n",
    "def prepare_data(image):\n",
    "    return image.reproject(crs='EPSG:3857', scale=500).clip(geometry)\n",
    "\n",
    "# Function to convert Kelvin to Celsius\n",
    "def kelvin_to_celsius(image):\n",
    "    return image.multiply(0.02).subtract(273.15).set('system:time_start', image.get('system:time_start'))\n",
    "\n",
    "# Function to load and process the LST data\n",
    "def load_data(date_range):\n",
    "    lst_collection = ee.ImageCollection('MODIS/061/MOD11A2') \\\n",
    "        .filterDate(date_range[0], date_range[1]) \\\n",
    "        .select('LST_Day_1km') \\\n",
    "        .map(prepare_data) \\\n",
    "        .map(kelvin_to_celsius)\n",
    "        \n",
    "    mean_lst_celsius = lst_collection.mean()\n",
    "    return mean_lst_celsius\n",
    "\n",
    "\n"
   ]
  },
  {
   "cell_type": "code",
   "execution_count": 9,
   "metadata": {},
   "outputs": [
    {
     "name": "stdout",
     "output_type": "stream",
     "text": [
      "Exporting to Google Drive successfully\n"
     ]
    }
   ],
   "source": [
    "# Define the date range for the analysis\n",
    "start_date = '2024-01-01'\n",
    "end_date = '2024-05-30'\n",
    "date_range = (start_date, end_date)\n",
    "\n",
    "# Load the data\n",
    "mean_lst_celsius = load_data(date_range)\n",
    "\n",
    "# Function to export the image to Google Drive\n",
    "def export_image_to_drive(image, description, folder, scale, region):\n",
    "    task = ee.batch.Export.image.toDrive(\n",
    "        image=image,\n",
    "        description=description,\n",
    "        folder=folder,\n",
    "        scale=scale,\n",
    "        region=region,\n",
    "        crs='EPSG:3857'\n",
    "    )\n",
    "    task.start()\n",
    "    \n",
    "\n",
    "# Export the mean LST image to Google Drive\n",
    "export_image_to_drive(mean_lst_celsius, 'Mean_LST_Celsius_2024', '_GEE_TUM', 500, geometry)\n",
    "print(f'Exporting to Google Drive successfully')\n"
   ]
  }
 ],
 "metadata": {
  "kernelspec": {
   "display_name": "gee",
   "language": "python",
   "name": "python3"
  },
  "language_info": {
   "codemirror_mode": {
    "name": "ipython",
    "version": 3
   },
   "file_extension": ".py",
   "mimetype": "text/x-python",
   "name": "python",
   "nbconvert_exporter": "python",
   "pygments_lexer": "ipython3",
   "version": "3.12.1"
  }
 },
 "nbformat": 4,
 "nbformat_minor": 2
}
