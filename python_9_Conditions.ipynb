{
  "cells": [
    {
      "cell_type": "markdown",
      "metadata": {
        "colab_type": "text",
        "id": "view-in-github"
      },
      "source": [
        "<a href=\"https://colab.research.google.com/github/dookda/py499/blob/main/python_9_Conditions.ipynb\" target=\"_parent\"><img src=\"https://colab.research.google.com/assets/colab-badge.svg\" alt=\"Open In Colab\"/></a>"
      ]
    },
    {
      "cell_type": "markdown",
      "metadata": {},
      "source": [
        "การใช้ IF แบบต่างๆ"
      ]
    },
    {
      "cell_type": "markdown",
      "metadata": {
        "id": "i5XGtbG4lCko"
      },
      "source": [
        "1. **`if` Statement**"
      ]
    },
    {
      "cell_type": "code",
      "execution_count": null,
      "metadata": {
        "id": "ZYT5DOvXk3ZC"
      },
      "outputs": [],
      "source": [
        "x = 10\n",
        "if x > 5:\n",
        "    print(\"x is greater than 5\")"
      ]
    },
    {
      "cell_type": "markdown",
      "metadata": {},
      "source": [
        "2. **`else` Statement**"
      ]
    },
    {
      "cell_type": "code",
      "execution_count": null,
      "metadata": {
        "id": "SH94g8dglL7o"
      },
      "outputs": [],
      "source": [
        "y = 3\n",
        "if y > 5:\n",
        "    print(\"y is greater than 5\")\n",
        "else:\n",
        "    print(\"y is not greater than 5\")"
      ]
    },
    {
      "cell_type": "markdown",
      "metadata": {},
      "source": [
        "3. **`elif` Statement**"
      ]
    },
    {
      "cell_type": "code",
      "execution_count": null,
      "metadata": {
        "id": "lCSXzQvVlQMC"
      },
      "outputs": [],
      "source": [
        "z = 5\n",
        "if z > 5:\n",
        "    print(\"z is greater than 5\")\n",
        "elif z == 5:\n",
        "    print(\"z is equal to 5\")\n",
        "else:\n",
        "    print(\"z is less than 5\")"
      ]
    },
    {
      "cell_type": "markdown",
      "metadata": {},
      "source": [
        "4. **Nested Conditions**"
      ]
    },
    {
      "cell_type": "code",
      "execution_count": null,
      "metadata": {
        "id": "VeLivqDrlVLc"
      },
      "outputs": [],
      "source": [
        "a = 20\n",
        "if a > 10:\n",
        "    print(\"Above ten,\")\n",
        "    if a > 20:\n",
        "        print(\"and also above 20!\")\n",
        "    else:\n",
        "        print(\"but not above 20.\")"
      ]
    },
    {
      "cell_type": "markdown",
      "metadata": {},
      "source": [
        "5. **Conditional Expressions**"
      ]
    },
    {
      "cell_type": "code",
      "execution_count": null,
      "metadata": {
        "id": "adSMm64BlYfg"
      },
      "outputs": [],
      "source": [
        "age = 18\n",
        "status = \"teenager\" if age < 20 else \"adult\"\n",
        "print(status)"
      ]
    },
    {
      "cell_type": "markdown",
      "metadata": {},
      "source": [
        "6. **Logical Operators with Conditions**"
      ]
    },
    {
      "cell_type": "code",
      "execution_count": null,
      "metadata": {
        "id": "2bk_SdQqldYH"
      },
      "outputs": [],
      "source": [
        "age = 25\n",
        "if age >= 13 and age <= 19:\n",
        "    print(\"The person is a teenager.\")\n",
        "else:\n",
        "    print(\"The person is not a teenager.\")"
      ]
    },
    {
      "cell_type": "markdown",
      "metadata": {},
      "source": [
        "**ช่วยตัดเกรดหน่อย**\n",
        "- score >= 80:'A'\n",
        "- score >= 70:'B'\n",
        "- score >= 60:'C'\n",
        "- score >= 50:'D'\n",
        "- score < 50: 'F'"
      ]
    },
    {
      "cell_type": "code",
      "execution_count": null,
      "metadata": {
        "id": "VC3H7OtSlhhA"
      },
      "outputs": [],
      "source": [
        "score = 85\n",
        "\n",
        "if score >= 80:\n",
        "    # print(\"A\")"
      ]
    }
  ],
  "metadata": {
    "colab": {
      "authorship_tag": "ABX9TyMGgytNm24y5SRkHEiAox0D",
      "include_colab_link": true,
      "provenance": []
    },
    "kernelspec": {
      "display_name": "Python 3",
      "name": "python3"
    },
    "language_info": {
      "codemirror_mode": {
        "name": "ipython",
        "version": 3
      },
      "file_extension": ".py",
      "mimetype": "text/x-python",
      "name": "python",
      "nbconvert_exporter": "python",
      "pygments_lexer": "ipython3",
      "version": "3.11.4"
    }
  },
  "nbformat": 4,
  "nbformat_minor": 0
}
