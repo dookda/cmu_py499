{
  "cells": [
    {
      "cell_type": "markdown",
      "metadata": {
        "colab_type": "text",
        "id": "view-in-github"
      },
      "source": [
        "<a href=\"https://colab.research.google.com/github/dookda/py499/blob/main/python_11_Functions.ipynb\" target=\"_parent\"><img src=\"https://colab.research.google.com/assets/colab-badge.svg\" alt=\"Open In Colab\"/></a>"
      ]
    },
    {
      "cell_type": "markdown",
      "metadata": {},
      "source": [
        "การเขียน Function ใน python จะนำหน้าด้วย `def` โดยมีรูปแบบดังนี้\n",
        "\n",
        "```python\n",
        "def function_name(parameters):\n",
        "    \"\"\"Docstring (optional but recommended)\"\"\"\n",
        "    # Code block\n",
        "    return result  # optional\n",
        "```\n",
        "\n",
        "เมื่อ\n",
        "- **function_name**: ชื่อ function\n",
        "- **parameters**: ตัวแปร หรือ ข้อมูลที่ส่งเข้า function (`optional`)\n",
        "- **docstring**: คำอธิบาย function (`optional`)\n",
        "- **return**: ส่ง outputs จาก function (`optional`)"
      ]
    },
    {
      "cell_type": "markdown",
      "metadata": {
        "id": "i5XGtbG4lCko"
      },
      "source": [
        "1. **Simple Function**"
      ]
    },
    {
      "cell_type": "code",
      "execution_count": null,
      "metadata": {
        "id": "ZYT5DOvXk3ZC"
      },
      "outputs": [],
      "source": [
        "def greet():\n",
        "    print(\"Hello, welcome to Python functions!\")"
      ]
    },
    {
      "cell_type": "code",
      "execution_count": null,
      "metadata": {},
      "outputs": [],
      "source": [
        "# การเรียกใช้งานฟังก์ชัน\n",
        "greet()"
      ]
    },
    {
      "cell_type": "markdown",
      "metadata": {},
      "source": [
        "2. **Function with Parameters**"
      ]
    },
    {
      "cell_type": "code",
      "execution_count": 2,
      "metadata": {
        "id": "SH94g8dglL7o"
      },
      "outputs": [],
      "source": [
        "def greet(name):\n",
        "    print(f\"Hello, {name}! How are you?\")"
      ]
    },
    {
      "cell_type": "code",
      "execution_count": null,
      "metadata": {},
      "outputs": [],
      "source": [
        "# การเรียกใช้งานฟังก์ชัน\n",
        "greet(\"Polygon\")"
      ]
    },
    {
      "cell_type": "markdown",
      "metadata": {},
      "source": [
        "3. **Returning Values**"
      ]
    },
    {
      "cell_type": "code",
      "execution_count": 4,
      "metadata": {
        "id": "lCSXzQvVlQMC"
      },
      "outputs": [],
      "source": [
        "def cooking(x, y):\n",
        "    return x + 'ผัด' + y"
      ]
    },
    {
      "cell_type": "code",
      "execution_count": null,
      "metadata": {},
      "outputs": [],
      "source": [
        "result = cooking('ข้าว', 'ไข่')\n",
        "print(result)  "
      ]
    },
    {
      "cell_type": "markdown",
      "metadata": {},
      "source": [
        "4. **Default Parameter Values**"
      ]
    },
    {
      "cell_type": "code",
      "execution_count": 6,
      "metadata": {
        "id": "VeLivqDrlVLc"
      },
      "outputs": [],
      "source": [
        "def greet(name=\"Guest\"):\n",
        "    print(f\"Hello, {name}! Welcome aboard.\")"
      ]
    },
    {
      "cell_type": "code",
      "execution_count": null,
      "metadata": {},
      "outputs": [],
      "source": [
        "greet()  \n",
        "greet(\"Ole\")  "
      ]
    },
    {
      "cell_type": "markdown",
      "metadata": {},
      "source": [
        "5. **Keyword Arguments**"
      ]
    },
    {
      "cell_type": "code",
      "execution_count": null,
      "metadata": {},
      "outputs": [],
      "source": [
        "def describe_pet(animal, name):\n",
        "    print(f\"I have a {animal} named {name}.\")\n",
        "\n",
        "describe_pet(name=\"Harry\", animal=\"hamster\")"
      ]
    },
    {
      "cell_type": "markdown",
      "metadata": {},
      "source": [
        "6. **Variable-length Arguments**"
      ]
    },
    {
      "cell_type": "code",
      "execution_count": null,
      "metadata": {},
      "outputs": [],
      "source": [
        "def make_pizza(*toppings):\n",
        "    print(\"Making a pizza with the following toppings:\")\n",
        "    for topping in toppings:\n",
        "        print(f\"- {topping}\")\n",
        "\n",
        "make_pizza('pepperoni', 'green peppers', 'extra cheese')"
      ]
    },
    {
      "cell_type": "code",
      "execution_count": null,
      "metadata": {},
      "outputs": [],
      "source": [
        "# kwargs (keyword arguments)\n",
        "def build_profile(first, last, **user_info):\n",
        "    user_info['first_name'] = first\n",
        "    user_info['last_name'] = last\n",
        "    return user_info\n",
        "\n",
        "user_profile = build_profile('albert', 'einstein', location='princeton', field='physics')\n",
        "\n",
        "print(user_profile)"
      ]
    }
  ],
  "metadata": {
    "colab": {
      "authorship_tag": "ABX9TyMGgytNm24y5SRkHEiAox0D",
      "include_colab_link": true,
      "provenance": []
    },
    "kernelspec": {
      "display_name": "Python 3",
      "name": "python3"
    },
    "language_info": {
      "codemirror_mode": {
        "name": "ipython",
        "version": 3
      },
      "file_extension": ".py",
      "mimetype": "text/x-python",
      "name": "python",
      "nbconvert_exporter": "python",
      "pygments_lexer": "ipython3",
      "version": "3.11.4"
    }
  },
  "nbformat": 4,
  "nbformat_minor": 0
}
