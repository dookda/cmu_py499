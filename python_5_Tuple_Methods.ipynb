{
  "cells": [
    {
      "cell_type": "markdown",
      "metadata": {
        "colab_type": "text",
        "id": "view-in-github"
      },
      "source": [
        "<a href=\"https://colab.research.google.com/github/dookda/py499/blob/main/python_5_Tuple_Methods.ipynb\" target=\"_parent\"><img src=\"https://colab.research.google.com/assets/colab-badge.svg\" alt=\"Open In Colab\"/></a>"
      ]
    },
    {
      "cell_type": "markdown",
      "metadata": {
        "id": "nMRTNoxAhOKn"
      },
      "source": [
        "Methods สำหรับข้อมูล Tuple \n",
        "\n",
        "Tuple ไม่สามารถ  เพิ่ม ลบ หรือ เปลี่ยนแปลงได้ นิยมใช้เก็บค่าแบบคงที่ เช่น Pi บัตรประชาชน เลขบัตรเครดิต"
      ]
    },
    {
      "cell_type": "code",
      "execution_count": null,
      "metadata": {
        "colab": {
          "base_uri": "https://localhost:8080/"
        },
        "id": "8le91HKmg_fa",
        "outputId": "d5e24ecc-6dda-4c74-94de-d5e12a081ca9"
      },
      "outputs": [],
      "source": [
        "# count()\n",
        "my_tuple = (1, 2, 3, 4, 3, 2, 1, 2, 3, 4, 5)\n",
        "print(my_tuple.count(2))"
      ]
    },
    {
      "cell_type": "code",
      "execution_count": null,
      "metadata": {
        "colab": {
          "base_uri": "https://localhost:8080/"
        },
        "id": "5z6yLNZkhVDw",
        "outputId": "48959634-4da2-4246-8fed-114189887a2c"
      },
      "outputs": [],
      "source": [
        "# index()\n",
        "print(my_tuple.index(4))"
      ]
    }
  ],
  "metadata": {
    "colab": {
      "authorship_tag": "ABX9TyO9ESd+2ilTVCalUGm7w/jk",
      "include_colab_link": true,
      "provenance": []
    },
    "kernelspec": {
      "display_name": "Python 3",
      "name": "python3"
    },
    "language_info": {
      "name": "python"
    }
  },
  "nbformat": 4,
  "nbformat_minor": 0
}
