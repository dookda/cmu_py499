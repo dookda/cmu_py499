{
  "nbformat": 4,
  "nbformat_minor": 0,
  "metadata": {
    "colab": {
      "provenance": [],
      "authorship_tag": "ABX9TyO9ESd+2ilTVCalUGm7w/jk",
      "include_colab_link": true
    },
    "kernelspec": {
      "name": "python3",
      "display_name": "Python 3"
    },
    "language_info": {
      "name": "python"
    }
  },
  "cells": [
    {
      "cell_type": "markdown",
      "metadata": {
        "id": "view-in-github",
        "colab_type": "text"
      },
      "source": [
        "<a href=\"https://colab.research.google.com/github/dookda/py499/blob/main/python_5_Tuple_Methods.ipynb\" target=\"_parent\"><img src=\"https://colab.research.google.com/assets/colab-badge.svg\" alt=\"Open In Colab\"/></a>"
      ]
    },
    {
      "cell_type": "markdown",
      "source": [
        "Tuple Methods"
      ],
      "metadata": {
        "id": "nMRTNoxAhOKn"
      }
    },
    {
      "cell_type": "code",
      "execution_count": 4,
      "metadata": {
        "colab": {
          "base_uri": "https://localhost:8080/"
        },
        "id": "8le91HKmg_fa",
        "outputId": "d5e24ecc-6dda-4c74-94de-d5e12a081ca9"
      },
      "outputs": [
        {
          "output_type": "stream",
          "name": "stdout",
          "text": [
            "3\n"
          ]
        }
      ],
      "source": [
        "# count()\n",
        "my_tuple = (1, 2, 3, 4, 3, 2, 1, 2, 3, 4, 5)\n",
        "print(my_tuple.count(2))"
      ]
    },
    {
      "cell_type": "code",
      "source": [
        "# index()\n",
        "print(my_tuple.index(4))"
      ],
      "metadata": {
        "colab": {
          "base_uri": "https://localhost:8080/"
        },
        "id": "5z6yLNZkhVDw",
        "outputId": "48959634-4da2-4246-8fed-114189887a2c"
      },
      "execution_count": 2,
      "outputs": [
        {
          "output_type": "stream",
          "name": "stdout",
          "text": [
            "3\n"
          ]
        }
      ]
    },
    {
      "cell_type": "markdown",
      "source": [
        "Unlike lists, you cannot add, remove, or change elements after the tuple is created"
      ],
      "metadata": {
        "id": "cOtqk8-Dh8OZ"
      }
    }
  ]
}