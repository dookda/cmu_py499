{
  "nbformat": 4,
  "nbformat_minor": 0,
  "metadata": {
    "colab": {
      "provenance": [],
      "authorship_tag": "ABX9TyNcV9JpJ4K+NkxFv52hsD5s",
      "include_colab_link": true
    },
    "kernelspec": {
      "name": "python3",
      "display_name": "Python 3"
    },
    "language_info": {
      "name": "python"
    }
  },
  "cells": [
    {
      "cell_type": "markdown",
      "metadata": {
        "id": "view-in-github",
        "colab_type": "text"
      },
      "source": [
        "<a href=\"https://colab.research.google.com/github/dookda/py499/blob/main/python_basic.ipynb\" target=\"_parent\"><img src=\"https://colab.research.google.com/assets/colab-badge.svg\" alt=\"Open In Colab\"/></a>"
      ]
    },
    {
      "cell_type": "markdown",
      "source": [
        "**Primitive Data Types**\n",
        "Primitive data types are the basic types built into the language.\n",
        "\n",
        "*   **Integers (int):** Whole numbers, positive or negative, without decimals. Examples include -1, 0, 42.\n",
        "*   **Floats (float):** Numbers that include a decimal point. Examples include -3.14, 0.0, 2.71.\n",
        "*   **Strings (str):**Sequences of characters, either in single, double, or triple quotes. Examples include \"Hello\", 'Python', \"\"\"multi-line string\"\"\".\n",
        "*   **Boolean (bool):** This type represents one of two values: True or False.\n"
      ],
      "metadata": {
        "id": "TJ4jB1zLTAtK"
      }
    },
    {
      "cell_type": "code",
      "execution_count": 2,
      "metadata": {
        "id": "-WiEw5PMR_H-"
      },
      "outputs": [],
      "source": [
        "# Primitive types\n",
        "x = 100               # Integer\n",
        "pi = 3.14159          # Float\n",
        "name = \"John Doe\"     # String\n",
        "is_valid = True       # Boolean"
      ]
    },
    {
      "cell_type": "markdown",
      "source": [
        "**Non-Primitive Data Types**\n",
        "Non-primitive types, also known as composite types, refer to those types that are not defined by the programming language but rather are constructed by the programmer.\n",
        "\n",
        "*   **Lists:** Ordered collections that are changeable and allow duplicate entries. They can contain mixed data types. Example: [1, 'hello', 3.14]\n",
        "*   **Tuples:** Ordered collections like lists but immutable (cannot be changed after creation). Example: (1, 'hello', 3.14)\n",
        "\n",
        "*   **Dictionaries:** Unordered collections of key-value pairs. Keys must be unique and immutable. Example: {'name': 'Alice', 'age': 25}\n",
        "*   **Sets:** Unordered collections of unique items. They are mutable and do not allow duplicates. Example: {1, 2, 3, 4}\n",
        "\n",
        "\n",
        "\n",
        "\n"
      ],
      "metadata": {
        "id": "OU9TIccJUmV8"
      }
    },
    {
      "cell_type": "code",
      "source": [
        "# Non-primitive types\n",
        "numbers = [1, 2, 3, 4, 5]            # List\n",
        "coordinates = (10.0, 20.0)           # Tuple\n",
        "user_info = {'name': 'John', 'age': 30} # Dictionary\n",
        "unique_numbers = {1, 2, 3, 4, 5}     # Set"
      ],
      "metadata": {
        "id": "LLJYPb9_TIJy"
      },
      "execution_count": null,
      "outputs": []
    }
  ]
}