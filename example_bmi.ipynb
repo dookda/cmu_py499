{
 "cells": [
  {
   "cell_type": "markdown",
   "metadata": {},
   "source": [
    "**ตัวอย่าง BMI**\n",
    "\n",
    "การหาค่า bmi"
   ]
  },
  {
   "cell_type": "code",
   "execution_count": 1,
   "metadata": {},
   "outputs": [
    {
     "name": "stdout",
     "output_type": "stream",
     "text": [
      "คุณสมส่วน (21.67)\n"
     ]
    }
   ],
   "source": [
    "#  function \n",
    "def hello():\n",
    "    print(\"hello\")\n",
    "\n",
    "# hello()\n",
    "\n",
    "def add(x):\n",
    "    res = 2 + x\n",
    "    print(res)\n",
    "\n",
    "# add(1)\n",
    "\n",
    "def dollar(x):\n",
    "    res = x * 30.00\n",
    "    print(str(res)+\" bath\")\n",
    "    \n",
    "# dollar(4)\n",
    "\n",
    "def bmi(w, h):\n",
    "    res = int(w) / int(int(h/100) ^2)\n",
    "\n",
    "    if(res<=18.5):\n",
    "        return  f'ต่ำกว่าเกณฑ์ ({round(res, 2)})'\n",
    "    elif(res<=22.9):\n",
    "        return  f'สมส่วน ({round(res, 2)})'\n",
    "    elif(res<=24.9):\n",
    "        return  f'น้ำหนักเกิน ({round(res, 2)})'\n",
    "    elif(res<=29.9):\n",
    "        return  f'อ้วน ({round(res, 2)})'\n",
    "    else:\n",
    "        return  f'อ้วนมาก ({round(res, 2)})'\n",
    "\n",
    "\n",
    "w = input(\"กรอกน้ำหนัก: \")\n",
    "h = input(\"กรอกส่วนสูง: \")\n",
    "a = bmi(int(w), int(h))\n",
    "\n",
    "print(f'คุณ{a}')\n"
   ]
  }
 ],
 "metadata": {
  "interpreter": {
   "hash": "aee8b7b246df8f9039afb4144a1f6fd8d2ca17a180786b69acc140d282b71a49"
  },
  "kernelspec": {
   "display_name": "Python 3.9.10 64-bit",
   "language": "python",
   "name": "python3"
  },
  "language_info": {
   "codemirror_mode": {
    "name": "ipython",
    "version": 3
   },
   "file_extension": ".py",
   "mimetype": "text/x-python",
   "name": "python",
   "nbconvert_exporter": "python",
   "pygments_lexer": "ipython3",
   "version": "3.11.4"
  },
  "orig_nbformat": 4
 },
 "nbformat": 4,
 "nbformat_minor": 2
}
