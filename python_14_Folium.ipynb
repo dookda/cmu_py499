{
 "cells": [
  {
   "cell_type": "markdown",
   "metadata": {},
   "source": [
    "<a href=\"https://colab.research.google.com/github/dookda/py499/blob/main/python_14_Folium.ipynb\" target=\"_parent\"><img src=\"https://colab.research.google.com/assets/colab-badge.svg\" alt=\"Open In Colab\"/></a>"
   ]
  },
  {
   "cell_type": "markdown",
   "metadata": {},
   "source": [
    "## Folium\n",
    "\n",
    "Folium เป็นไลบรารี Python ที่ใช้ในการสร้างแผนที่แบบโต้ตอบได้ง่าย ๆ โดยใช้เทคโนโลยี Leaflet.js ซึ่งเป็นไลบรารี JavaScript ที่นิยมสำหรับการแสดงแผนที่แบบโต้ตอบบนเว็บไซต์ Folium ทำให้นักวิเคราะห์และนักพัฒนาสามารถแสดงข้อมูลทางภูมิศาสตร์ได้ง่ายโดยใช้ Python โดยไม่ต้องมีความรู้มากเรื่อง JavaScript หรือ HTML\n",
    "\n",
    "\n",
    "https://python-visualization.github.io/folium/latest/"
   ]
  },
  {
   "cell_type": "markdown",
   "metadata": {},
   "source": [
    "1. **Install Folium**\n",
    "\n",
    "install ผ่าน pip:\n",
    "\n",
    "```bash\n",
    "pip install folium\n",
    "```"
   ]
  },
  {
   "cell_type": "markdown",
   "metadata": {},
   "source": [
    "2. **Import Folium**"
   ]
  },
  {
   "cell_type": "code",
   "execution_count": 1,
   "metadata": {},
   "outputs": [],
   "source": [
    "import folium"
   ]
  },
  {
   "cell_type": "markdown",
   "metadata": {},
   "source": [
    "3. **Create a Map**"
   ]
  },
  {
   "cell_type": "code",
   "execution_count": null,
   "metadata": {},
   "outputs": [],
   "source": [
    "m = folium.Map(location=[18.803149526700317, 98.95037310146532], zoom_start=15)\n",
    "\n",
    "# display\n",
    "m"
   ]
  },
  {
   "cell_type": "code",
   "execution_count": null,
   "metadata": {},
   "outputs": [],
   "source": [
    "# xyz tile\n",
    "cartodb_tile = \"cartodb positron\"\n",
    "osm_tile = \"openstreetmap\"\n",
    "\n",
    "m = folium.Map(\n",
    "    location=[18.803149526700317, 98.95037310146532], \n",
    "    zoom_start=15, \n",
    "    tiles=osm_tile\n",
    "    )"
   ]
  },
  {
   "cell_type": "code",
   "execution_count": 71,
   "metadata": {},
   "outputs": [],
   "source": [
    "# เลือก tiles แบบ ต่างๆ จาก https://leaflet-extras.github.io/leaflet-providers/preview/\n",
    "# รองรับ xyz tile ทุกแบบ\n",
    "\n",
    "EsriWorldImagery = \"https://server.arcgisonline.com/ArcGIS/rest/services/World_Imagery/MapServer/tile/{z}/{y}/{x}\"\n",
    "\n",
    "m = folium.Map(\n",
    "    location=[18.803149526700317, 98.95037310146532], \n",
    "    zoom_start=15, \n",
    "    tiles=EsriWorldImagery,\n",
    "    attr='esri'\n",
    "    )"
   ]
  },
  {
   "cell_type": "code",
   "execution_count": null,
   "metadata": {},
   "outputs": [],
   "source": [
    "m = folium.Map(\n",
    "    location=[18.803149526700317, 98.95037310146532], \n",
    "    zoom_start=15, \n",
    "    tiles=\"cartodbpositron\"\n",
    "    )\n",
    "\n",
    "# add base layer to control\n",
    "folium.TileLayer(EsriWorldImagery, name='Esri World Imagery', attr='esri').add_to(m)\n",
    "folium.TileLayer(osm_tile, name='OSM').add_to(m)\n",
    "folium.LayerControl().add_to(m)\n"
   ]
  },
  {
   "cell_type": "markdown",
   "metadata": {},
   "source": [
    "4. **Add Markers**\n",
    "\n",
    "folium มี marker ให้เลือกเยอะ (เอาจริงๆ มีพร้อมให้เลือกมากกว่า Leaflet อีก)"
   ]
  },
  {
   "cell_type": "code",
   "execution_count": null,
   "metadata": {},
   "outputs": [],
   "source": [
    "folium.Marker(\n",
    "    [18.803149526700317, 98.95037310146532], \n",
    "    popup='geo cmu',\n",
    "    tooltip='Click for more info',\n",
    "    icon=folium.Icon(icon='cloud')\n",
    ").add_to(m)"
   ]
  },
  {
   "cell_type": "code",
   "execution_count": null,
   "metadata": {},
   "outputs": [],
   "source": [
    "m = folium.Map(location=[41, -71], zoom_start=4)\n",
    "\n",
    "# ค้นจาก https://getbootstrap.com/docs/3.3/components/\n",
    "\n",
    "kw = {\"color\": \"red\", \"icon\": \"glyphicon glyphicon-heart\"}\n",
    "\n",
    "angle = 180\n",
    "icon = folium.Icon(angle=angle, **kw)\n",
    "folium.Marker(location=[41, -72], icon=icon, tooltip=str(angle)).add_to(m)\n",
    "\n",
    "angle = 45\n",
    "icon = folium.Icon(angle=angle, **kw)\n",
    "folium.Marker(location=[41, -75], icon=icon, tooltip=str(angle)).add_to(m)\n",
    "\n",
    "angle = 90\n",
    "icon = folium.Icon(angle=angle, **kw)\n",
    "folium.Marker([41, -78], icon=icon, tooltip=str(angle)).add_to(m)\n"
   ]
  },
  {
   "cell_type": "markdown",
   "metadata": {},
   "source": [
    "5. **Add More Features**"
   ]
  },
  {
   "cell_type": "code",
   "execution_count": null,
   "metadata": {},
   "outputs": [],
   "source": [
    "# clear map\n",
    "m = folium.Map(location=[18.803149526700317, 98.95037310146532], zoom_start=15)\n",
    "\n",
    "# add feature\n",
    "folium.Circle(\n",
    "    radius=200,\n",
    "    location=[18.803149526700317, 98.95037310146532],\n",
    "    popup='Financial District',\n",
    "    color='crimson',\n",
    "    fill=False,\n",
    ").add_to(m)\n"
   ]
  },
  {
   "cell_type": "markdown",
   "metadata": {},
   "source": [
    "6. **GeoJSON**\n",
    "\n",
    "ถ้าเรามี geojson เอามาใส่ได้"
   ]
  },
  {
   "cell_type": "code",
   "execution_count": null,
   "metadata": {},
   "outputs": [],
   "source": [
    "import requests\n",
    "\n",
    "m = folium.Map(tiles=\"cartodbpositron\")\n",
    "\n",
    "geojson_data = requests.get(\n",
    "    \"https://eac.engrids.soc.cmu.ac.th/geoserver/eac/ows?service=WFS&version=1.0.0&request=GetFeature&typeName=eac%3Aamp_eac&maxFeatures=50000&outputFormat=application%2Fjson\"\n",
    ").json()\n",
    "\n",
    "folium.GeoJson(geojson_data, name=\"eec\").add_to(m)\n",
    "\n",
    "folium.LayerControl().add_to(m)\n",
    "\n",
    "# fit center object\n",
    "m.fit_bounds(m.get_bounds())\n",
    "\n",
    "m"
   ]
  },
  {
   "cell_type": "markdown",
   "metadata": {},
   "source": [
    "7. **Save Map**"
   ]
  },
  {
   "cell_type": "code",
   "execution_count": null,
   "metadata": {},
   "outputs": [],
   "source": [
    "m.save('my_map.html')"
   ]
  }
 ],
 "metadata": {
  "kernelspec": {
   "display_name": "base",
   "language": "python",
   "name": "python3"
  },
  "language_info": {
   "codemirror_mode": {
    "name": "ipython",
    "version": 3
   },
   "file_extension": ".py",
   "mimetype": "text/x-python",
   "name": "python",
   "nbconvert_exporter": "python",
   "pygments_lexer": "ipython3",
   "version": "3.11.4"
  }
 },
 "nbformat": 4,
 "nbformat_minor": 2
}
